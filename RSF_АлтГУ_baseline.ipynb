{
 "cells": [
  {
   "cell_type": "markdown",
   "metadata": {
    "id": "onWd_-hfkFjP"
   },
   "source": [
    "## Загрузим нужные библиотеки"
   ]
  },
  {
   "cell_type": "code",
   "execution_count": 67,
   "metadata": {
    "id": "6ZwB6QtzjuK9"
   },
   "outputs": [],
   "source": [
    "import pandas as pd\n",
    "import seaborn as sns\n",
    "import matplotlib.pyplot as plt\n",
    "from sklearn.model_selection import train_test_split\n",
    "from sklearn.ensemble import RandomForestClassifier\n",
    "import numpy as np\n",
    "\n",
    "%matplotlib inline"
   ]
  },
  {
   "cell_type": "markdown",
   "metadata": {
    "id": "paXTTHa-kJhw"
   },
   "source": [
    "### Считаем тренировочный набор"
   ]
  },
  {
   "cell_type": "code",
   "execution_count": 188,
   "metadata": {
    "id": "-wig-ZPwkHMk"
   },
   "outputs": [],
   "source": [
    "df_issues_train = pd.read_csv(\"./content/train_issues.csv\")\n",
    "df_comment_train = pd.read_csv(\"./content/train_comments.csv\")\n",
    "\n",
    "df_emp = pd.read_csv(\"./content/employees.csv\")"
   ]
  },
  {
   "cell_type": "code",
   "execution_count": 189,
   "metadata": {},
   "outputs": [],
   "source": [
    "#emp_positions = df_emp['position'].unique()"
   ]
  },
  {
   "cell_type": "markdown",
   "metadata": {
    "id": "GywlangPRAEm"
   },
   "source": [
    "## Рассмотрим датасет по ближе"
   ]
  },
  {
   "cell_type": "code",
   "execution_count": 190,
   "metadata": {
    "colab": {
     "base_uri": "https://localhost:8080/",
     "height": 187
    },
    "id": "gvcl_K3FQ-os",
    "outputId": "6ff39d81-7b85-4d3d-e243-b8fb4932973d"
   },
   "outputs": [
    {
     "data": {
      "text/html": [
       "<div>\n",
       "<style scoped>\n",
       "    .dataframe tbody tr th:only-of-type {\n",
       "        vertical-align: middle;\n",
       "    }\n",
       "\n",
       "    .dataframe tbody tr th {\n",
       "        vertical-align: top;\n",
       "    }\n",
       "\n",
       "    .dataframe thead th {\n",
       "        text-align: right;\n",
       "    }\n",
       "</style>\n",
       "<table border=\"1\" class=\"dataframe\">\n",
       "  <thead>\n",
       "    <tr style=\"text-align: right;\">\n",
       "      <th></th>\n",
       "      <th>id</th>\n",
       "      <th>created</th>\n",
       "      <th>key</th>\n",
       "      <th>summary</th>\n",
       "      <th>project_id</th>\n",
       "      <th>assignee_id</th>\n",
       "      <th>creator_id</th>\n",
       "      <th>overall_worklogs</th>\n",
       "    </tr>\n",
       "  </thead>\n",
       "  <tbody>\n",
       "    <tr>\n",
       "      <th>0</th>\n",
       "      <td>819952</td>\n",
       "      <td>2019-10-01 05:57:18.000</td>\n",
       "      <td>SM-10678</td>\n",
       "      <td>UI тесты по заказу \"Добро КейДжи\"</td>\n",
       "      <td>5</td>\n",
       "      <td>93</td>\n",
       "      <td>93</td>\n",
       "      <td>1800</td>\n",
       "    </tr>\n",
       "    <tr>\n",
       "      <th>1</th>\n",
       "      <td>819949</td>\n",
       "      <td>2019-10-01 05:59:45.000</td>\n",
       "      <td>SM-10679</td>\n",
       "      <td>UI тесты раздела \"Профиль\"</td>\n",
       "      <td>5</td>\n",
       "      <td>93</td>\n",
       "      <td>93</td>\n",
       "      <td>7200</td>\n",
       "    </tr>\n",
       "    <tr>\n",
       "      <th>2</th>\n",
       "      <td>819947</td>\n",
       "      <td>2019-10-01 06:00:38.000</td>\n",
       "      <td>SM-10680</td>\n",
       "      <td>UI тесты раздела \"Личный счет\"</td>\n",
       "      <td>5</td>\n",
       "      <td>93</td>\n",
       "      <td>93</td>\n",
       "      <td>14400</td>\n",
       "    </tr>\n",
       "  </tbody>\n",
       "</table>\n",
       "</div>"
      ],
      "text/plain": [
       "       id                  created       key  \\\n",
       "0  819952  2019-10-01 05:57:18.000  SM-10678   \n",
       "1  819949  2019-10-01 05:59:45.000  SM-10679   \n",
       "2  819947  2019-10-01 06:00:38.000  SM-10680   \n",
       "\n",
       "                             summary  project_id  assignee_id  creator_id  \\\n",
       "0  UI тесты по заказу \"Добро КейДжи\"           5           93          93   \n",
       "1         UI тесты раздела \"Профиль\"           5           93          93   \n",
       "2     UI тесты раздела \"Личный счет\"           5           93          93   \n",
       "\n",
       "   overall_worklogs  \n",
       "0              1800  \n",
       "1              7200  \n",
       "2             14400  "
      ]
     },
     "execution_count": 190,
     "metadata": {},
     "output_type": "execute_result"
    }
   ],
   "source": [
    "df_issues_train.head(3)"
   ]
  },
  {
   "cell_type": "code",
   "execution_count": 191,
   "metadata": {
    "colab": {
     "base_uri": "https://localhost:8080/"
    },
    "id": "jE8r6sYMUB6w",
    "outputId": "7ef4e079-4702-4a43-ef59-1de59427c143"
   },
   "outputs": [
    {
     "data": {
      "text/plain": [
       "(9589, 8)"
      ]
     },
     "execution_count": 191,
     "metadata": {},
     "output_type": "execute_result"
    }
   ],
   "source": [
    "df_issues_train.shape"
   ]
  },
  {
   "cell_type": "code",
   "execution_count": 192,
   "metadata": {},
   "outputs": [
    {
     "data": {
      "text/plain": [
       "Test layout                                        34\n",
       "Planing task                                       29\n",
       "Planing tasks                                      24\n",
       "Work on feedback                                   16\n",
       "Fix bugs                                           11\n",
       "                                                   ..\n",
       "Add correct icons and colors for journeys           1\n",
       "Testing validation fields in login pages            1\n",
       "Add loader for \"Upload avatar\"                      1\n",
       "Markup improvements for IB curriculums              1\n",
       "Expand a gitlab parser by adding members emails     1\n",
       "Name: summary, Length: 9266, dtype: int64"
      ]
     },
     "execution_count": 192,
     "metadata": {},
     "output_type": "execute_result"
    }
   ],
   "source": [
    "df_issues_train['summary'].value_counts()"
   ]
  },
  {
   "cell_type": "code",
   "execution_count": 193,
   "metadata": {
    "colab": {
     "base_uri": "https://localhost:8080/"
    },
    "id": "uAIT-vwLUI0z",
    "outputId": "920d57ab-4d05-4b8e-842e-a1156e7aad1e"
   },
   "outputs": [
    {
     "name": "stdout",
     "output_type": "stream",
     "text": [
      "<class 'pandas.core.frame.DataFrame'>\n",
      "RangeIndex: 9589 entries, 0 to 9588\n",
      "Data columns (total 8 columns):\n",
      " #   Column            Non-Null Count  Dtype \n",
      "---  ------            --------------  ----- \n",
      " 0   id                9589 non-null   int64 \n",
      " 1   created           9589 non-null   object\n",
      " 2   key               9589 non-null   object\n",
      " 3   summary           9589 non-null   object\n",
      " 4   project_id        9589 non-null   int64 \n",
      " 5   assignee_id       9589 non-null   int64 \n",
      " 6   creator_id        9589 non-null   int64 \n",
      " 7   overall_worklogs  9589 non-null   int64 \n",
      "dtypes: int64(5), object(3)\n",
      "memory usage: 599.4+ KB\n"
     ]
    }
   ],
   "source": [
    "df_issues_train.info()"
   ]
  },
  {
   "cell_type": "code",
   "execution_count": 194,
   "metadata": {
    "colab": {
     "base_uri": "https://localhost:8080/",
     "height": 143
    },
    "id": "fSH6jFHAkPLW",
    "outputId": "cce6b934-01bf-42e5-d4d0-bbe7af6210f6"
   },
   "outputs": [
    {
     "data": {
      "text/html": [
       "<div>\n",
       "<style scoped>\n",
       "    .dataframe tbody tr th:only-of-type {\n",
       "        vertical-align: middle;\n",
       "    }\n",
       "\n",
       "    .dataframe tbody tr th {\n",
       "        vertical-align: top;\n",
       "    }\n",
       "\n",
       "    .dataframe thead th {\n",
       "        text-align: right;\n",
       "    }\n",
       "</style>\n",
       "<table border=\"1\" class=\"dataframe\">\n",
       "  <thead>\n",
       "    <tr style=\"text-align: right;\">\n",
       "      <th></th>\n",
       "      <th>comment_id</th>\n",
       "      <th>text</th>\n",
       "      <th>issue_id</th>\n",
       "      <th>author_id</th>\n",
       "    </tr>\n",
       "  </thead>\n",
       "  <tbody>\n",
       "    <tr>\n",
       "      <th>0</th>\n",
       "      <td>11779</td>\n",
       "      <td>[https://www.youtube.com/watch?v=tuhOdtsvoNY|h...</td>\n",
       "      <td>669666</td>\n",
       "      <td>1</td>\n",
       "    </tr>\n",
       "    <tr>\n",
       "      <th>1</th>\n",
       "      <td>10601</td>\n",
       "      <td>OK [~accountid:557058:3f7ab89a-8969-4547-90df-...</td>\n",
       "      <td>669670</td>\n",
       "      <td>1</td>\n",
       "    </tr>\n",
       "    <tr>\n",
       "      <th>2</th>\n",
       "      <td>76101</td>\n",
       "      <td>I encountered a problem with access to `/users...</td>\n",
       "      <td>670930</td>\n",
       "      <td>2</td>\n",
       "    </tr>\n",
       "  </tbody>\n",
       "</table>\n",
       "</div>"
      ],
      "text/plain": [
       "   comment_id                                               text  issue_id  \\\n",
       "0       11779  [https://www.youtube.com/watch?v=tuhOdtsvoNY|h...    669666   \n",
       "1       10601  OK [~accountid:557058:3f7ab89a-8969-4547-90df-...    669670   \n",
       "2       76101  I encountered a problem with access to `/users...    670930   \n",
       "\n",
       "   author_id  \n",
       "0          1  \n",
       "1          1  \n",
       "2          2  "
      ]
     },
     "execution_count": 194,
     "metadata": {},
     "output_type": "execute_result"
    }
   ],
   "source": [
    "df_comment_train.head(3)"
   ]
  },
  {
   "cell_type": "code",
   "execution_count": 195,
   "metadata": {},
   "outputs": [
    {
     "data": {
      "text/plain": [
       "(13918, 4)"
      ]
     },
     "execution_count": 195,
     "metadata": {},
     "output_type": "execute_result"
    }
   ],
   "source": [
    "df_comment_train.shape"
   ]
  },
  {
   "cell_type": "code",
   "execution_count": 196,
   "metadata": {},
   "outputs": [],
   "source": [
    "df_comment_train_sum = df_comment_train.groupby(['issue_id'])['issue_id'].agg([lambda x:x.count()])"
   ]
  },
  {
   "cell_type": "code",
   "execution_count": 197,
   "metadata": {},
   "outputs": [],
   "source": [
    "df_comment_train_sum = df_comment_train_sum.reset_index()"
   ]
  },
  {
   "cell_type": "code",
   "execution_count": 198,
   "metadata": {},
   "outputs": [],
   "source": [
    "df_comment_train_sum.columns = ['issue_id', 'comments_count']"
   ]
  },
  {
   "cell_type": "code",
   "execution_count": 199,
   "metadata": {},
   "outputs": [
    {
     "data": {
      "text/html": [
       "<div>\n",
       "<style scoped>\n",
       "    .dataframe tbody tr th:only-of-type {\n",
       "        vertical-align: middle;\n",
       "    }\n",
       "\n",
       "    .dataframe tbody tr th {\n",
       "        vertical-align: top;\n",
       "    }\n",
       "\n",
       "    .dataframe thead th {\n",
       "        text-align: right;\n",
       "    }\n",
       "</style>\n",
       "<table border=\"1\" class=\"dataframe\">\n",
       "  <thead>\n",
       "    <tr style=\"text-align: right;\">\n",
       "      <th></th>\n",
       "      <th>issue_id</th>\n",
       "      <th>comments_count</th>\n",
       "    </tr>\n",
       "  </thead>\n",
       "  <tbody>\n",
       "    <tr>\n",
       "      <th>0</th>\n",
       "      <td>669666</td>\n",
       "      <td>1</td>\n",
       "    </tr>\n",
       "    <tr>\n",
       "      <th>1</th>\n",
       "      <td>669670</td>\n",
       "      <td>1</td>\n",
       "    </tr>\n",
       "    <tr>\n",
       "      <th>2</th>\n",
       "      <td>670930</td>\n",
       "      <td>3</td>\n",
       "    </tr>\n",
       "    <tr>\n",
       "      <th>3</th>\n",
       "      <td>670934</td>\n",
       "      <td>3</td>\n",
       "    </tr>\n",
       "    <tr>\n",
       "      <th>4</th>\n",
       "      <td>675979</td>\n",
       "      <td>5</td>\n",
       "    </tr>\n",
       "    <tr>\n",
       "      <th>...</th>\n",
       "      <td>...</td>\n",
       "      <td>...</td>\n",
       "    </tr>\n",
       "    <tr>\n",
       "      <th>3940</th>\n",
       "      <td>824411</td>\n",
       "      <td>1</td>\n",
       "    </tr>\n",
       "    <tr>\n",
       "      <th>3941</th>\n",
       "      <td>824447</td>\n",
       "      <td>1</td>\n",
       "    </tr>\n",
       "    <tr>\n",
       "      <th>3942</th>\n",
       "      <td>923360</td>\n",
       "      <td>1</td>\n",
       "    </tr>\n",
       "    <tr>\n",
       "      <th>3943</th>\n",
       "      <td>926256</td>\n",
       "      <td>1</td>\n",
       "    </tr>\n",
       "    <tr>\n",
       "      <th>3944</th>\n",
       "      <td>1056012</td>\n",
       "      <td>1</td>\n",
       "    </tr>\n",
       "  </tbody>\n",
       "</table>\n",
       "<p>3945 rows × 2 columns</p>\n",
       "</div>"
      ],
      "text/plain": [
       "      issue_id  comments_count\n",
       "0       669666               1\n",
       "1       669670               1\n",
       "2       670930               3\n",
       "3       670934               3\n",
       "4       675979               5\n",
       "...        ...             ...\n",
       "3940    824411               1\n",
       "3941    824447               1\n",
       "3942    923360               1\n",
       "3943    926256               1\n",
       "3944   1056012               1\n",
       "\n",
       "[3945 rows x 2 columns]"
      ]
     },
     "execution_count": 199,
     "metadata": {},
     "output_type": "execute_result"
    }
   ],
   "source": [
    "df_comment_train_sum"
   ]
  },
  {
   "cell_type": "code",
   "execution_count": 200,
   "metadata": {
    "colab": {
     "base_uri": "https://localhost:8080/"
    },
    "id": "knoyVFuGjnS4",
    "outputId": "e61aa31d-3222-4f73-ab73-3801484307b9"
   },
   "outputs": [
    {
     "data": {
      "text/plain": [
       "(13918, 4)"
      ]
     },
     "execution_count": 200,
     "metadata": {},
     "output_type": "execute_result"
    }
   ],
   "source": [
    "df_comment_train.shape"
   ]
  },
  {
   "cell_type": "code",
   "execution_count": 201,
   "metadata": {
    "colab": {
     "base_uri": "https://localhost:8080/"
    },
    "id": "KaXkHWn8jn8k",
    "outputId": "f844d321-03b7-4199-c1b3-85f0f49b601d"
   },
   "outputs": [
    {
     "name": "stdout",
     "output_type": "stream",
     "text": [
      "<class 'pandas.core.frame.DataFrame'>\n",
      "RangeIndex: 13918 entries, 0 to 13917\n",
      "Data columns (total 4 columns):\n",
      " #   Column      Non-Null Count  Dtype \n",
      "---  ------      --------------  ----- \n",
      " 0   comment_id  13918 non-null  int64 \n",
      " 1   text        13918 non-null  object\n",
      " 2   issue_id    13918 non-null  int64 \n",
      " 3   author_id   13918 non-null  int64 \n",
      "dtypes: int64(3), object(1)\n",
      "memory usage: 435.1+ KB\n"
     ]
    }
   ],
   "source": [
    "df_comment_train.info()"
   ]
  },
  {
   "cell_type": "markdown",
   "metadata": {
    "id": "252IKD-t4a1F"
   },
   "source": [
    "### Преобразование столбцов"
   ]
  },
  {
   "cell_type": "markdown",
   "metadata": {
    "id": "Tmem_XGjpCUB"
   },
   "source": [
    "Удалим ненужную информацию о работниках"
   ]
  },
  {
   "cell_type": "code",
   "execution_count": 202,
   "metadata": {
    "colab": {
     "base_uri": "https://localhost:8080/",
     "height": 320
    },
    "id": "VgA_dOO4pBrU",
    "outputId": "f21a16ed-216a-4d9c-af7e-db8806d3e12d"
   },
   "outputs": [],
   "source": [
    "df_emp = df_emp.drop([\"active\",\"full_name\", \"salary_calculation_type\", \"passport\"],axis = 1)"
   ]
  },
  {
   "cell_type": "markdown",
   "metadata": {
    "id": "SPzAUHGmpKSY"
   },
   "source": [
    "Обьединим два набора данных по id исполнителя"
   ]
  },
  {
   "cell_type": "code",
   "execution_count": 203,
   "metadata": {
    "id": "quZc_K-nmmLP"
   },
   "outputs": [],
   "source": [
    "df_train = pd.merge(df_issues_train, df_emp, left_on=\"assignee_id\", right_on=\"id\", how='inner')"
   ]
  },
  {
   "cell_type": "code",
   "execution_count": 204,
   "metadata": {},
   "outputs": [
    {
     "data": {
      "text/html": [
       "<div>\n",
       "<style scoped>\n",
       "    .dataframe tbody tr th:only-of-type {\n",
       "        vertical-align: middle;\n",
       "    }\n",
       "\n",
       "    .dataframe tbody tr th {\n",
       "        vertical-align: top;\n",
       "    }\n",
       "\n",
       "    .dataframe thead th {\n",
       "        text-align: right;\n",
       "    }\n",
       "</style>\n",
       "<table border=\"1\" class=\"dataframe\">\n",
       "  <thead>\n",
       "    <tr style=\"text-align: right;\">\n",
       "      <th></th>\n",
       "      <th>id_x</th>\n",
       "      <th>created</th>\n",
       "      <th>key</th>\n",
       "      <th>summary</th>\n",
       "      <th>project_id</th>\n",
       "      <th>assignee_id</th>\n",
       "      <th>creator_id</th>\n",
       "      <th>overall_worklogs</th>\n",
       "      <th>id_y</th>\n",
       "      <th>position</th>\n",
       "      <th>hiring_type</th>\n",
       "      <th>payment_type</th>\n",
       "      <th>english_level</th>\n",
       "      <th>is_nda_signed</th>\n",
       "      <th>is_labor_contract_signed</th>\n",
       "      <th>is_added_to_internal_chats</th>\n",
       "      <th>is_added_one_to_one</th>\n",
       "    </tr>\n",
       "  </thead>\n",
       "  <tbody>\n",
       "    <tr>\n",
       "      <th>0</th>\n",
       "      <td>819952</td>\n",
       "      <td>2019-10-01 05:57:18.000</td>\n",
       "      <td>SM-10678</td>\n",
       "      <td>UI тесты по заказу \"Добро КейДжи\"</td>\n",
       "      <td>5</td>\n",
       "      <td>93</td>\n",
       "      <td>93</td>\n",
       "      <td>1800</td>\n",
       "      <td>93</td>\n",
       "      <td>Разработчик мобильных приложений</td>\n",
       "      <td>staff</td>\n",
       "      <td>fixed</td>\n",
       "      <td>NaN</td>\n",
       "      <td>1</td>\n",
       "      <td>1</td>\n",
       "      <td>1</td>\n",
       "      <td>1</td>\n",
       "    </tr>\n",
       "    <tr>\n",
       "      <th>1</th>\n",
       "      <td>819949</td>\n",
       "      <td>2019-10-01 05:59:45.000</td>\n",
       "      <td>SM-10679</td>\n",
       "      <td>UI тесты раздела \"Профиль\"</td>\n",
       "      <td>5</td>\n",
       "      <td>93</td>\n",
       "      <td>93</td>\n",
       "      <td>7200</td>\n",
       "      <td>93</td>\n",
       "      <td>Разработчик мобильных приложений</td>\n",
       "      <td>staff</td>\n",
       "      <td>fixed</td>\n",
       "      <td>NaN</td>\n",
       "      <td>1</td>\n",
       "      <td>1</td>\n",
       "      <td>1</td>\n",
       "      <td>1</td>\n",
       "    </tr>\n",
       "    <tr>\n",
       "      <th>2</th>\n",
       "      <td>819947</td>\n",
       "      <td>2019-10-01 06:00:38.000</td>\n",
       "      <td>SM-10680</td>\n",
       "      <td>UI тесты раздела \"Личный счет\"</td>\n",
       "      <td>5</td>\n",
       "      <td>93</td>\n",
       "      <td>93</td>\n",
       "      <td>14400</td>\n",
       "      <td>93</td>\n",
       "      <td>Разработчик мобильных приложений</td>\n",
       "      <td>staff</td>\n",
       "      <td>fixed</td>\n",
       "      <td>NaN</td>\n",
       "      <td>1</td>\n",
       "      <td>1</td>\n",
       "      <td>1</td>\n",
       "      <td>1</td>\n",
       "    </tr>\n",
       "    <tr>\n",
       "      <th>3</th>\n",
       "      <td>819943</td>\n",
       "      <td>2019-10-01 06:02:49.000</td>\n",
       "      <td>SM-10682</td>\n",
       "      <td>UI тесты раздела \"Новости\"</td>\n",
       "      <td>5</td>\n",
       "      <td>93</td>\n",
       "      <td>93</td>\n",
       "      <td>900</td>\n",
       "      <td>93</td>\n",
       "      <td>Разработчик мобильных приложений</td>\n",
       "      <td>staff</td>\n",
       "      <td>fixed</td>\n",
       "      <td>NaN</td>\n",
       "      <td>1</td>\n",
       "      <td>1</td>\n",
       "      <td>1</td>\n",
       "      <td>1</td>\n",
       "    </tr>\n",
       "    <tr>\n",
       "      <th>4</th>\n",
       "      <td>819941</td>\n",
       "      <td>2019-10-01 06:03:26.000</td>\n",
       "      <td>SM-10683</td>\n",
       "      <td>UI тесты раздела \"Зоны скидок и доплат\"</td>\n",
       "      <td>5</td>\n",
       "      <td>93</td>\n",
       "      <td>93</td>\n",
       "      <td>900</td>\n",
       "      <td>93</td>\n",
       "      <td>Разработчик мобильных приложений</td>\n",
       "      <td>staff</td>\n",
       "      <td>fixed</td>\n",
       "      <td>NaN</td>\n",
       "      <td>1</td>\n",
       "      <td>1</td>\n",
       "      <td>1</td>\n",
       "      <td>1</td>\n",
       "    </tr>\n",
       "  </tbody>\n",
       "</table>\n",
       "</div>"
      ],
      "text/plain": [
       "     id_x                  created       key  \\\n",
       "0  819952  2019-10-01 05:57:18.000  SM-10678   \n",
       "1  819949  2019-10-01 05:59:45.000  SM-10679   \n",
       "2  819947  2019-10-01 06:00:38.000  SM-10680   \n",
       "3  819943  2019-10-01 06:02:49.000  SM-10682   \n",
       "4  819941  2019-10-01 06:03:26.000  SM-10683   \n",
       "\n",
       "                                   summary  project_id  assignee_id  \\\n",
       "0        UI тесты по заказу \"Добро КейДжи\"           5           93   \n",
       "1               UI тесты раздела \"Профиль\"           5           93   \n",
       "2           UI тесты раздела \"Личный счет\"           5           93   \n",
       "3               UI тесты раздела \"Новости\"           5           93   \n",
       "4  UI тесты раздела \"Зоны скидок и доплат\"           5           93   \n",
       "\n",
       "   creator_id  overall_worklogs  id_y                          position  \\\n",
       "0          93              1800    93  Разработчик мобильных приложений   \n",
       "1          93              7200    93  Разработчик мобильных приложений   \n",
       "2          93             14400    93  Разработчик мобильных приложений   \n",
       "3          93               900    93  Разработчик мобильных приложений   \n",
       "4          93               900    93  Разработчик мобильных приложений   \n",
       "\n",
       "  hiring_type payment_type english_level  is_nda_signed  \\\n",
       "0       staff        fixed           NaN              1   \n",
       "1       staff        fixed           NaN              1   \n",
       "2       staff        fixed           NaN              1   \n",
       "3       staff        fixed           NaN              1   \n",
       "4       staff        fixed           NaN              1   \n",
       "\n",
       "   is_labor_contract_signed  is_added_to_internal_chats  is_added_one_to_one  \n",
       "0                         1                           1                    1  \n",
       "1                         1                           1                    1  \n",
       "2                         1                           1                    1  \n",
       "3                         1                           1                    1  \n",
       "4                         1                           1                    1  "
      ]
     },
     "execution_count": 204,
     "metadata": {},
     "output_type": "execute_result"
    }
   ],
   "source": [
    "df_train.head()"
   ]
  },
  {
   "cell_type": "code",
   "execution_count": 205,
   "metadata": {},
   "outputs": [
    {
     "data": {
      "text/plain": [
       "(9589, 17)"
      ]
     },
     "execution_count": 205,
     "metadata": {},
     "output_type": "execute_result"
    }
   ],
   "source": [
    "df_train.shape"
   ]
  },
  {
   "cell_type": "markdown",
   "metadata": {},
   "source": [
    "Добавим сюда еще информацию о количестве комментариев из третьего набора:"
   ]
  },
  {
   "cell_type": "code",
   "execution_count": 206,
   "metadata": {},
   "outputs": [],
   "source": [
    "df_train = pd.merge(df_train, df_comment_train_sum, left_on=\"id_x\", right_on=\"issue_id\", how='outer')"
   ]
  },
  {
   "cell_type": "code",
   "execution_count": 207,
   "metadata": {
    "colab": {
     "base_uri": "https://localhost:8080/"
    },
    "id": "WgD82ZQRmYli",
    "outputId": "c14b176e-08ef-4018-c352-14ff45ae4de9"
   },
   "outputs": [
    {
     "data": {
      "text/plain": [
       "(9589, 19)"
      ]
     },
     "execution_count": 207,
     "metadata": {},
     "output_type": "execute_result"
    }
   ],
   "source": [
    "df_train.shape"
   ]
  },
  {
   "cell_type": "code",
   "execution_count": 208,
   "metadata": {},
   "outputs": [
    {
     "name": "stdout",
     "output_type": "stream",
     "text": [
      "<class 'pandas.core.frame.DataFrame'>\n",
      "Int64Index: 9589 entries, 0 to 9588\n",
      "Data columns (total 19 columns):\n",
      " #   Column                      Non-Null Count  Dtype  \n",
      "---  ------                      --------------  -----  \n",
      " 0   id_x                        9589 non-null   int64  \n",
      " 1   created                     9589 non-null   object \n",
      " 2   key                         9589 non-null   object \n",
      " 3   summary                     9589 non-null   object \n",
      " 4   project_id                  9589 non-null   int64  \n",
      " 5   assignee_id                 9589 non-null   int64  \n",
      " 6   creator_id                  9589 non-null   int64  \n",
      " 7   overall_worklogs            9589 non-null   int64  \n",
      " 8   id_y                        9589 non-null   int64  \n",
      " 9   position                    7354 non-null   object \n",
      " 10  hiring_type                 7630 non-null   object \n",
      " 11  payment_type                7529 non-null   object \n",
      " 12  english_level               534 non-null    object \n",
      " 13  is_nda_signed               9589 non-null   int64  \n",
      " 14  is_labor_contract_signed    9589 non-null   int64  \n",
      " 15  is_added_to_internal_chats  9589 non-null   int64  \n",
      " 16  is_added_one_to_one         9589 non-null   int64  \n",
      " 17  issue_id                    3945 non-null   float64\n",
      " 18  comments_count              3945 non-null   float64\n",
      "dtypes: float64(2), int64(10), object(7)\n",
      "memory usage: 1.5+ MB\n"
     ]
    }
   ],
   "source": [
    "df_train.info()"
   ]
  },
  {
   "cell_type": "code",
   "execution_count": 209,
   "metadata": {
    "id": "xYW7B_k9pxYf"
   },
   "outputs": [],
   "source": [
    "df_train = df_train.fillna(0)"
   ]
  },
  {
   "cell_type": "code",
   "execution_count": 210,
   "metadata": {},
   "outputs": [
    {
     "data": {
      "text/html": [
       "<div>\n",
       "<style scoped>\n",
       "    .dataframe tbody tr th:only-of-type {\n",
       "        vertical-align: middle;\n",
       "    }\n",
       "\n",
       "    .dataframe tbody tr th {\n",
       "        vertical-align: top;\n",
       "    }\n",
       "\n",
       "    .dataframe thead th {\n",
       "        text-align: right;\n",
       "    }\n",
       "</style>\n",
       "<table border=\"1\" class=\"dataframe\">\n",
       "  <thead>\n",
       "    <tr style=\"text-align: right;\">\n",
       "      <th></th>\n",
       "      <th>id_x</th>\n",
       "      <th>created</th>\n",
       "      <th>key</th>\n",
       "      <th>summary</th>\n",
       "      <th>project_id</th>\n",
       "      <th>assignee_id</th>\n",
       "      <th>creator_id</th>\n",
       "      <th>overall_worklogs</th>\n",
       "      <th>id_y</th>\n",
       "      <th>position</th>\n",
       "      <th>hiring_type</th>\n",
       "      <th>payment_type</th>\n",
       "      <th>english_level</th>\n",
       "      <th>is_nda_signed</th>\n",
       "      <th>is_labor_contract_signed</th>\n",
       "      <th>is_added_to_internal_chats</th>\n",
       "      <th>is_added_one_to_one</th>\n",
       "      <th>issue_id</th>\n",
       "      <th>comments_count</th>\n",
       "    </tr>\n",
       "  </thead>\n",
       "  <tbody>\n",
       "    <tr>\n",
       "      <th>0</th>\n",
       "      <td>819952</td>\n",
       "      <td>2019-10-01 05:57:18.000</td>\n",
       "      <td>SM-10678</td>\n",
       "      <td>UI тесты по заказу \"Добро КейДжи\"</td>\n",
       "      <td>5</td>\n",
       "      <td>93</td>\n",
       "      <td>93</td>\n",
       "      <td>1800</td>\n",
       "      <td>93</td>\n",
       "      <td>Разработчик мобильных приложений</td>\n",
       "      <td>staff</td>\n",
       "      <td>fixed</td>\n",
       "      <td>0</td>\n",
       "      <td>1</td>\n",
       "      <td>1</td>\n",
       "      <td>1</td>\n",
       "      <td>1</td>\n",
       "      <td>0.0</td>\n",
       "      <td>0.0</td>\n",
       "    </tr>\n",
       "    <tr>\n",
       "      <th>1</th>\n",
       "      <td>819949</td>\n",
       "      <td>2019-10-01 05:59:45.000</td>\n",
       "      <td>SM-10679</td>\n",
       "      <td>UI тесты раздела \"Профиль\"</td>\n",
       "      <td>5</td>\n",
       "      <td>93</td>\n",
       "      <td>93</td>\n",
       "      <td>7200</td>\n",
       "      <td>93</td>\n",
       "      <td>Разработчик мобильных приложений</td>\n",
       "      <td>staff</td>\n",
       "      <td>fixed</td>\n",
       "      <td>0</td>\n",
       "      <td>1</td>\n",
       "      <td>1</td>\n",
       "      <td>1</td>\n",
       "      <td>1</td>\n",
       "      <td>819949.0</td>\n",
       "      <td>1.0</td>\n",
       "    </tr>\n",
       "    <tr>\n",
       "      <th>2</th>\n",
       "      <td>819947</td>\n",
       "      <td>2019-10-01 06:00:38.000</td>\n",
       "      <td>SM-10680</td>\n",
       "      <td>UI тесты раздела \"Личный счет\"</td>\n",
       "      <td>5</td>\n",
       "      <td>93</td>\n",
       "      <td>93</td>\n",
       "      <td>14400</td>\n",
       "      <td>93</td>\n",
       "      <td>Разработчик мобильных приложений</td>\n",
       "      <td>staff</td>\n",
       "      <td>fixed</td>\n",
       "      <td>0</td>\n",
       "      <td>1</td>\n",
       "      <td>1</td>\n",
       "      <td>1</td>\n",
       "      <td>1</td>\n",
       "      <td>0.0</td>\n",
       "      <td>0.0</td>\n",
       "    </tr>\n",
       "    <tr>\n",
       "      <th>3</th>\n",
       "      <td>819943</td>\n",
       "      <td>2019-10-01 06:02:49.000</td>\n",
       "      <td>SM-10682</td>\n",
       "      <td>UI тесты раздела \"Новости\"</td>\n",
       "      <td>5</td>\n",
       "      <td>93</td>\n",
       "      <td>93</td>\n",
       "      <td>900</td>\n",
       "      <td>93</td>\n",
       "      <td>Разработчик мобильных приложений</td>\n",
       "      <td>staff</td>\n",
       "      <td>fixed</td>\n",
       "      <td>0</td>\n",
       "      <td>1</td>\n",
       "      <td>1</td>\n",
       "      <td>1</td>\n",
       "      <td>1</td>\n",
       "      <td>0.0</td>\n",
       "      <td>0.0</td>\n",
       "    </tr>\n",
       "    <tr>\n",
       "      <th>4</th>\n",
       "      <td>819941</td>\n",
       "      <td>2019-10-01 06:03:26.000</td>\n",
       "      <td>SM-10683</td>\n",
       "      <td>UI тесты раздела \"Зоны скидок и доплат\"</td>\n",
       "      <td>5</td>\n",
       "      <td>93</td>\n",
       "      <td>93</td>\n",
       "      <td>900</td>\n",
       "      <td>93</td>\n",
       "      <td>Разработчик мобильных приложений</td>\n",
       "      <td>staff</td>\n",
       "      <td>fixed</td>\n",
       "      <td>0</td>\n",
       "      <td>1</td>\n",
       "      <td>1</td>\n",
       "      <td>1</td>\n",
       "      <td>1</td>\n",
       "      <td>819941.0</td>\n",
       "      <td>1.0</td>\n",
       "    </tr>\n",
       "    <tr>\n",
       "      <th>...</th>\n",
       "      <td>...</td>\n",
       "      <td>...</td>\n",
       "      <td>...</td>\n",
       "      <td>...</td>\n",
       "      <td>...</td>\n",
       "      <td>...</td>\n",
       "      <td>...</td>\n",
       "      <td>...</td>\n",
       "      <td>...</td>\n",
       "      <td>...</td>\n",
       "      <td>...</td>\n",
       "      <td>...</td>\n",
       "      <td>...</td>\n",
       "      <td>...</td>\n",
       "      <td>...</td>\n",
       "      <td>...</td>\n",
       "      <td>...</td>\n",
       "      <td>...</td>\n",
       "      <td>...</td>\n",
       "    </tr>\n",
       "    <tr>\n",
       "      <th>9584</th>\n",
       "      <td>688397</td>\n",
       "      <td>2020-01-24 05:40:31.000</td>\n",
       "      <td>XXO-213</td>\n",
       "      <td>Layout - Service and postcode search results p...</td>\n",
       "      <td>33</td>\n",
       "      <td>98</td>\n",
       "      <td>58</td>\n",
       "      <td>18000</td>\n",
       "      <td>98</td>\n",
       "      <td>Web-разработчик</td>\n",
       "      <td>staff</td>\n",
       "      <td>fixed</td>\n",
       "      <td>0</td>\n",
       "      <td>1</td>\n",
       "      <td>1</td>\n",
       "      <td>1</td>\n",
       "      <td>1</td>\n",
       "      <td>688397.0</td>\n",
       "      <td>31.0</td>\n",
       "    </tr>\n",
       "    <tr>\n",
       "      <th>9585</th>\n",
       "      <td>670934</td>\n",
       "      <td>2020-06-02 10:08:14.000</td>\n",
       "      <td>LJ-1</td>\n",
       "      <td>Set up the neo4j by using a dataset from Slack</td>\n",
       "      <td>56</td>\n",
       "      <td>2</td>\n",
       "      <td>2</td>\n",
       "      <td>16200</td>\n",
       "      <td>2</td>\n",
       "      <td>Web-разработчик</td>\n",
       "      <td>staff</td>\n",
       "      <td>fixed</td>\n",
       "      <td>0</td>\n",
       "      <td>0</td>\n",
       "      <td>0</td>\n",
       "      <td>0</td>\n",
       "      <td>0</td>\n",
       "      <td>670934.0</td>\n",
       "      <td>3.0</td>\n",
       "    </tr>\n",
       "    <tr>\n",
       "      <th>9586</th>\n",
       "      <td>670932</td>\n",
       "      <td>2020-06-05 09:52:12.000</td>\n",
       "      <td>LJ-3</td>\n",
       "      <td>Set up a graph in neo4j by GitLab dataset</td>\n",
       "      <td>56</td>\n",
       "      <td>2</td>\n",
       "      <td>2</td>\n",
       "      <td>3600</td>\n",
       "      <td>2</td>\n",
       "      <td>Web-разработчик</td>\n",
       "      <td>staff</td>\n",
       "      <td>fixed</td>\n",
       "      <td>0</td>\n",
       "      <td>0</td>\n",
       "      <td>0</td>\n",
       "      <td>0</td>\n",
       "      <td>0</td>\n",
       "      <td>0.0</td>\n",
       "      <td>0.0</td>\n",
       "    </tr>\n",
       "    <tr>\n",
       "      <th>9587</th>\n",
       "      <td>670931</td>\n",
       "      <td>2020-06-05 13:46:38.000</td>\n",
       "      <td>LJ-4</td>\n",
       "      <td>Parse a dataset from teacherly slack</td>\n",
       "      <td>56</td>\n",
       "      <td>2</td>\n",
       "      <td>2</td>\n",
       "      <td>6300</td>\n",
       "      <td>2</td>\n",
       "      <td>Web-разработчик</td>\n",
       "      <td>staff</td>\n",
       "      <td>fixed</td>\n",
       "      <td>0</td>\n",
       "      <td>0</td>\n",
       "      <td>0</td>\n",
       "      <td>0</td>\n",
       "      <td>0</td>\n",
       "      <td>0.0</td>\n",
       "      <td>0.0</td>\n",
       "    </tr>\n",
       "    <tr>\n",
       "      <th>9588</th>\n",
       "      <td>670930</td>\n",
       "      <td>2020-06-09 02:56:25.000</td>\n",
       "      <td>LJ-5</td>\n",
       "      <td>Expand a gitlab parser by adding members emails</td>\n",
       "      <td>56</td>\n",
       "      <td>2</td>\n",
       "      <td>2</td>\n",
       "      <td>5400</td>\n",
       "      <td>2</td>\n",
       "      <td>Web-разработчик</td>\n",
       "      <td>staff</td>\n",
       "      <td>fixed</td>\n",
       "      <td>0</td>\n",
       "      <td>0</td>\n",
       "      <td>0</td>\n",
       "      <td>0</td>\n",
       "      <td>0</td>\n",
       "      <td>670930.0</td>\n",
       "      <td>3.0</td>\n",
       "    </tr>\n",
       "  </tbody>\n",
       "</table>\n",
       "<p>9589 rows × 19 columns</p>\n",
       "</div>"
      ],
      "text/plain": [
       "        id_x                  created       key  \\\n",
       "0     819952  2019-10-01 05:57:18.000  SM-10678   \n",
       "1     819949  2019-10-01 05:59:45.000  SM-10679   \n",
       "2     819947  2019-10-01 06:00:38.000  SM-10680   \n",
       "3     819943  2019-10-01 06:02:49.000  SM-10682   \n",
       "4     819941  2019-10-01 06:03:26.000  SM-10683   \n",
       "...      ...                      ...       ...   \n",
       "9584  688397  2020-01-24 05:40:31.000   XXO-213   \n",
       "9585  670934  2020-06-02 10:08:14.000      LJ-1   \n",
       "9586  670932  2020-06-05 09:52:12.000      LJ-3   \n",
       "9587  670931  2020-06-05 13:46:38.000      LJ-4   \n",
       "9588  670930  2020-06-09 02:56:25.000      LJ-5   \n",
       "\n",
       "                                                summary  project_id  \\\n",
       "0                     UI тесты по заказу \"Добро КейДжи\"           5   \n",
       "1                            UI тесты раздела \"Профиль\"           5   \n",
       "2                        UI тесты раздела \"Личный счет\"           5   \n",
       "3                            UI тесты раздела \"Новости\"           5   \n",
       "4               UI тесты раздела \"Зоны скидок и доплат\"           5   \n",
       "...                                                 ...         ...   \n",
       "9584  Layout - Service and postcode search results p...          33   \n",
       "9585     Set up the neo4j by using a dataset from Slack          56   \n",
       "9586          Set up a graph in neo4j by GitLab dataset          56   \n",
       "9587               Parse a dataset from teacherly slack          56   \n",
       "9588    Expand a gitlab parser by adding members emails          56   \n",
       "\n",
       "      assignee_id  creator_id  overall_worklogs  id_y  \\\n",
       "0              93          93              1800    93   \n",
       "1              93          93              7200    93   \n",
       "2              93          93             14400    93   \n",
       "3              93          93               900    93   \n",
       "4              93          93               900    93   \n",
       "...           ...         ...               ...   ...   \n",
       "9584           98          58             18000    98   \n",
       "9585            2           2             16200     2   \n",
       "9586            2           2              3600     2   \n",
       "9587            2           2              6300     2   \n",
       "9588            2           2              5400     2   \n",
       "\n",
       "                              position hiring_type payment_type english_level  \\\n",
       "0     Разработчик мобильных приложений       staff        fixed             0   \n",
       "1     Разработчик мобильных приложений       staff        fixed             0   \n",
       "2     Разработчик мобильных приложений       staff        fixed             0   \n",
       "3     Разработчик мобильных приложений       staff        fixed             0   \n",
       "4     Разработчик мобильных приложений       staff        fixed             0   \n",
       "...                                ...         ...          ...           ...   \n",
       "9584                   Web-разработчик       staff        fixed             0   \n",
       "9585                   Web-разработчик       staff        fixed             0   \n",
       "9586                   Web-разработчик       staff        fixed             0   \n",
       "9587                   Web-разработчик       staff        fixed             0   \n",
       "9588                   Web-разработчик       staff        fixed             0   \n",
       "\n",
       "      is_nda_signed  is_labor_contract_signed  is_added_to_internal_chats  \\\n",
       "0                 1                         1                           1   \n",
       "1                 1                         1                           1   \n",
       "2                 1                         1                           1   \n",
       "3                 1                         1                           1   \n",
       "4                 1                         1                           1   \n",
       "...             ...                       ...                         ...   \n",
       "9584              1                         1                           1   \n",
       "9585              0                         0                           0   \n",
       "9586              0                         0                           0   \n",
       "9587              0                         0                           0   \n",
       "9588              0                         0                           0   \n",
       "\n",
       "      is_added_one_to_one  issue_id  comments_count  \n",
       "0                       1       0.0             0.0  \n",
       "1                       1  819949.0             1.0  \n",
       "2                       1       0.0             0.0  \n",
       "3                       1       0.0             0.0  \n",
       "4                       1  819941.0             1.0  \n",
       "...                   ...       ...             ...  \n",
       "9584                    1  688397.0            31.0  \n",
       "9585                    0  670934.0             3.0  \n",
       "9586                    0       0.0             0.0  \n",
       "9587                    0       0.0             0.0  \n",
       "9588                    0  670930.0             3.0  \n",
       "\n",
       "[9589 rows x 19 columns]"
      ]
     },
     "execution_count": 210,
     "metadata": {},
     "output_type": "execute_result"
    }
   ],
   "source": [
    "df_train"
   ]
  },
  {
   "cell_type": "markdown",
   "metadata": {
    "id": "Xgt7u1YjpoH_"
   },
   "source": [
    " Создадим список всех не числовых лейблов и взглянем на них"
   ]
  },
  {
   "cell_type": "code",
   "execution_count": 211,
   "metadata": {
    "id": "47FgbuwSnlJN"
   },
   "outputs": [],
   "source": [
    "mass_object = df_train.dtypes[df_train.dtypes == \"object\"].index.values"
   ]
  },
  {
   "cell_type": "code",
   "execution_count": 212,
   "metadata": {
    "colab": {
     "base_uri": "https://localhost:8080/",
     "height": 239
    },
    "id": "bZfw7897ozpR",
    "outputId": "426d5899-e0b7-4346-d84f-322b1bd51ca7"
   },
   "outputs": [
    {
     "data": {
      "text/html": [
       "<div>\n",
       "<style scoped>\n",
       "    .dataframe tbody tr th:only-of-type {\n",
       "        vertical-align: middle;\n",
       "    }\n",
       "\n",
       "    .dataframe tbody tr th {\n",
       "        vertical-align: top;\n",
       "    }\n",
       "\n",
       "    .dataframe thead th {\n",
       "        text-align: right;\n",
       "    }\n",
       "</style>\n",
       "<table border=\"1\" class=\"dataframe\">\n",
       "  <thead>\n",
       "    <tr style=\"text-align: right;\">\n",
       "      <th></th>\n",
       "      <th>created</th>\n",
       "      <th>key</th>\n",
       "      <th>summary</th>\n",
       "      <th>position</th>\n",
       "      <th>hiring_type</th>\n",
       "      <th>payment_type</th>\n",
       "      <th>english_level</th>\n",
       "    </tr>\n",
       "  </thead>\n",
       "  <tbody>\n",
       "    <tr>\n",
       "      <th>0</th>\n",
       "      <td>2019-10-01 05:57:18.000</td>\n",
       "      <td>SM-10678</td>\n",
       "      <td>UI тесты по заказу \"Добро КейДжи\"</td>\n",
       "      <td>Разработчик мобильных приложений</td>\n",
       "      <td>staff</td>\n",
       "      <td>fixed</td>\n",
       "      <td>0</td>\n",
       "    </tr>\n",
       "    <tr>\n",
       "      <th>1</th>\n",
       "      <td>2019-10-01 05:59:45.000</td>\n",
       "      <td>SM-10679</td>\n",
       "      <td>UI тесты раздела \"Профиль\"</td>\n",
       "      <td>Разработчик мобильных приложений</td>\n",
       "      <td>staff</td>\n",
       "      <td>fixed</td>\n",
       "      <td>0</td>\n",
       "    </tr>\n",
       "    <tr>\n",
       "      <th>2</th>\n",
       "      <td>2019-10-01 06:00:38.000</td>\n",
       "      <td>SM-10680</td>\n",
       "      <td>UI тесты раздела \"Личный счет\"</td>\n",
       "      <td>Разработчик мобильных приложений</td>\n",
       "      <td>staff</td>\n",
       "      <td>fixed</td>\n",
       "      <td>0</td>\n",
       "    </tr>\n",
       "  </tbody>\n",
       "</table>\n",
       "</div>"
      ],
      "text/plain": [
       "                   created       key                            summary  \\\n",
       "0  2019-10-01 05:57:18.000  SM-10678  UI тесты по заказу \"Добро КейДжи\"   \n",
       "1  2019-10-01 05:59:45.000  SM-10679         UI тесты раздела \"Профиль\"   \n",
       "2  2019-10-01 06:00:38.000  SM-10680     UI тесты раздела \"Личный счет\"   \n",
       "\n",
       "                           position hiring_type payment_type english_level  \n",
       "0  Разработчик мобильных приложений       staff        fixed             0  \n",
       "1  Разработчик мобильных приложений       staff        fixed             0  \n",
       "2  Разработчик мобильных приложений       staff        fixed             0  "
      ]
     },
     "execution_count": 212,
     "metadata": {},
     "output_type": "execute_result"
    }
   ],
   "source": [
    "df_train[mass_object].head(3)"
   ]
  },
  {
   "cell_type": "code",
   "execution_count": 213,
   "metadata": {},
   "outputs": [
    {
     "data": {
      "text/plain": [
       "Test layout                                        34\n",
       "Planing task                                       29\n",
       "Planing tasks                                      24\n",
       "Work on feedback                                   16\n",
       "Fix bugs                                           11\n",
       "                                                   ..\n",
       "New view for Subjects and Topics                    1\n",
       "Templates slider functional                         1\n",
       "Filter templates by teams                           1\n",
       "Modal for edit Template parameters                  1\n",
       "Expand a gitlab parser by adding members emails     1\n",
       "Name: summary, Length: 9266, dtype: int64"
      ]
     },
     "execution_count": 213,
     "metadata": {},
     "output_type": "execute_result"
    }
   ],
   "source": [
    "df_train['summary'].value_counts()"
   ]
  },
  {
   "cell_type": "markdown",
   "metadata": {
    "id": "h3iGFCySqMNe"
   },
   "source": [
    "Взглянем на них поближе"
   ]
  },
  {
   "cell_type": "code",
   "execution_count": 214,
   "metadata": {},
   "outputs": [
    {
     "data": {
      "text/plain": [
       "Web-разработчик                             6434\n",
       "0                                           2235\n",
       "Разработчик мобильных приложений             305\n",
       "Системный администратор (DevOps инженер)     250\n",
       "Менеджер проектов                            168\n",
       "Директор по IT                                87\n",
       "Web дизайнер                                  71\n",
       "DevOps инженер                                29\n",
       "Инженер тестировщик (QA engineer)              7\n",
       "Delivery Manager                               2\n",
       "Директор по стратегическому развитию           1\n",
       "Name: position, dtype: int64"
      ]
     },
     "execution_count": 214,
     "metadata": {},
     "output_type": "execute_result"
    }
   ],
   "source": [
    "df_train['position'].value_counts()"
   ]
  },
  {
   "cell_type": "code",
   "execution_count": 215,
   "metadata": {},
   "outputs": [
    {
     "data": {
      "text/plain": [
       "array(['Разработчик мобильных приложений', 'Web-разработчик', 0,\n",
       "       'Менеджер проектов', 'Системный администратор (DevOps инженер)',\n",
       "       'Инженер тестировщик (QA engineer)',\n",
       "       'Директор по стратегическому развитию', 'DevOps инженер',\n",
       "       'Директор по IT', 'Web дизайнер', 'Delivery Manager'], dtype=object)"
      ]
     },
     "execution_count": 215,
     "metadata": {},
     "output_type": "execute_result"
    }
   ],
   "source": [
    "df_train['position'].unique()"
   ]
  },
  {
   "cell_type": "code",
   "execution_count": 216,
   "metadata": {
    "colab": {
     "base_uri": "https://localhost:8080/"
    },
    "id": "st_P3duRpwuQ",
    "outputId": "820c75d0-c01d-4a05-e229-7c7f92e6b426"
   },
   "outputs": [
    {
     "data": {
      "text/plain": [
       "staff        7005\n",
       "0            1959\n",
       "non_staff     625\n",
       "Name: hiring_type, dtype: int64"
      ]
     },
     "execution_count": 216,
     "metadata": {},
     "output_type": "execute_result"
    }
   ],
   "source": [
    "df_train['hiring_type'].value_counts()"
   ]
  },
  {
   "cell_type": "code",
   "execution_count": 217,
   "metadata": {
    "colab": {
     "base_uri": "https://localhost:8080/"
    },
    "id": "D7Lf14L7psdS",
    "outputId": "3cfa9d26-c485-4709-af5f-225065adc013"
   },
   "outputs": [
    {
     "data": {
      "text/plain": [
       "fixed     5765\n",
       "0         2060\n",
       "hourly    1764\n",
       "Name: payment_type, dtype: int64"
      ]
     },
     "execution_count": 217,
     "metadata": {},
     "output_type": "execute_result"
    }
   ],
   "source": [
    "df_train['payment_type'].value_counts()"
   ]
  },
  {
   "cell_type": "code",
   "execution_count": 218,
   "metadata": {
    "colab": {
     "base_uri": "https://localhost:8080/"
    },
    "id": "3HoVqTxeqBMj",
    "outputId": "13b8121d-a878-4694-9e9f-c4300b33e611"
   },
   "outputs": [
    {
     "data": {
      "text/plain": [
       "0     9055\n",
       "B1     358\n",
       "C1     176\n",
       "Name: english_level, dtype: int64"
      ]
     },
     "execution_count": 218,
     "metadata": {},
     "output_type": "execute_result"
    }
   ],
   "source": [
    "df_train['english_level'].value_counts()"
   ]
  },
  {
   "cell_type": "code",
   "execution_count": 219,
   "metadata": {},
   "outputs": [
    {
     "data": {
      "text/plain": [
       "1      1864\n",
       "365    1049\n",
       "10      801\n",
       "86      732\n",
       "33      637\n",
       "11      498\n",
       "97      436\n",
       "68      352\n",
       "208     329\n",
       "242     303\n",
       "192     278\n",
       "82      250\n",
       "191     175\n",
       "330     174\n",
       "4       172\n",
       "197     139\n",
       "291     137\n",
       "99      129\n",
       "13      111\n",
       "384      99\n",
       "210      87\n",
       "193      80\n",
       "94       77\n",
       "22       73\n",
       "195      65\n",
       "53       57\n",
       "306      50\n",
       "58       49\n",
       "147      41\n",
       "149      38\n",
       "107      35\n",
       "93       34\n",
       "112      29\n",
       "246      27\n",
       "57       24\n",
       "207      21\n",
       "37       20\n",
       "54       19\n",
       "98       13\n",
       "285      11\n",
       "264      10\n",
       "20       10\n",
       "18       10\n",
       "8        10\n",
       "166      10\n",
       "284       9\n",
       "206       7\n",
       "2         4\n",
       "204       2\n",
       "116       1\n",
       "43        1\n",
       "Name: assignee_id, dtype: int64"
      ]
     },
     "execution_count": 219,
     "metadata": {},
     "output_type": "execute_result"
    }
   ],
   "source": [
    "df_train['assignee_id'].value_counts()"
   ]
  },
  {
   "cell_type": "markdown",
   "metadata": {
    "id": "N4YVfB7yq2eh"
   },
   "source": [
    "Проведем даммизацию:"
   ]
  },
  {
   "cell_type": "code",
   "execution_count": 220,
   "metadata": {},
   "outputs": [],
   "source": [
    "#df_train_positions = df_train['position'].unique()"
   ]
  },
  {
   "cell_type": "code",
   "execution_count": 221,
   "metadata": {},
   "outputs": [],
   "source": [
    "#df_train_positions"
   ]
  },
  {
   "cell_type": "code",
   "execution_count": 222,
   "metadata": {},
   "outputs": [],
   "source": [
    "#emp_positions"
   ]
  },
  {
   "cell_type": "code",
   "execution_count": 223,
   "metadata": {},
   "outputs": [],
   "source": [
    "#df_add_train_positions = list(set(emp_positions) - set(df_train_positions))"
   ]
  },
  {
   "cell_type": "code",
   "execution_count": 224,
   "metadata": {},
   "outputs": [],
   "source": [
    "#df_add_train_positions"
   ]
  },
  {
   "cell_type": "code",
   "execution_count": 225,
   "metadata": {},
   "outputs": [],
   "source": [
    "#df_train = pd.get_dummies(df_train,columns = ['position'], drop_first = True, dummy_na = False)"
   ]
  },
  {
   "cell_type": "code",
   "execution_count": 226,
   "metadata": {},
   "outputs": [],
   "source": [
    "#df_train.head()"
   ]
  },
  {
   "cell_type": "code",
   "execution_count": 227,
   "metadata": {},
   "outputs": [],
   "source": [
    "df_train = pd.get_dummies(df_train,columns = ['hiring_type'], drop_first = False, dummy_na = False)"
   ]
  },
  {
   "cell_type": "code",
   "execution_count": 228,
   "metadata": {},
   "outputs": [
    {
     "data": {
      "text/html": [
       "<div>\n",
       "<style scoped>\n",
       "    .dataframe tbody tr th:only-of-type {\n",
       "        vertical-align: middle;\n",
       "    }\n",
       "\n",
       "    .dataframe tbody tr th {\n",
       "        vertical-align: top;\n",
       "    }\n",
       "\n",
       "    .dataframe thead th {\n",
       "        text-align: right;\n",
       "    }\n",
       "</style>\n",
       "<table border=\"1\" class=\"dataframe\">\n",
       "  <thead>\n",
       "    <tr style=\"text-align: right;\">\n",
       "      <th></th>\n",
       "      <th>id_x</th>\n",
       "      <th>created</th>\n",
       "      <th>key</th>\n",
       "      <th>summary</th>\n",
       "      <th>project_id</th>\n",
       "      <th>assignee_id</th>\n",
       "      <th>creator_id</th>\n",
       "      <th>overall_worklogs</th>\n",
       "      <th>id_y</th>\n",
       "      <th>position</th>\n",
       "      <th>...</th>\n",
       "      <th>english_level</th>\n",
       "      <th>is_nda_signed</th>\n",
       "      <th>is_labor_contract_signed</th>\n",
       "      <th>is_added_to_internal_chats</th>\n",
       "      <th>is_added_one_to_one</th>\n",
       "      <th>issue_id</th>\n",
       "      <th>comments_count</th>\n",
       "      <th>hiring_type_0</th>\n",
       "      <th>hiring_type_non_staff</th>\n",
       "      <th>hiring_type_staff</th>\n",
       "    </tr>\n",
       "  </thead>\n",
       "  <tbody>\n",
       "    <tr>\n",
       "      <th>0</th>\n",
       "      <td>819952</td>\n",
       "      <td>2019-10-01 05:57:18.000</td>\n",
       "      <td>SM-10678</td>\n",
       "      <td>UI тесты по заказу \"Добро КейДжи\"</td>\n",
       "      <td>5</td>\n",
       "      <td>93</td>\n",
       "      <td>93</td>\n",
       "      <td>1800</td>\n",
       "      <td>93</td>\n",
       "      <td>Разработчик мобильных приложений</td>\n",
       "      <td>...</td>\n",
       "      <td>0</td>\n",
       "      <td>1</td>\n",
       "      <td>1</td>\n",
       "      <td>1</td>\n",
       "      <td>1</td>\n",
       "      <td>0.0</td>\n",
       "      <td>0.0</td>\n",
       "      <td>0</td>\n",
       "      <td>0</td>\n",
       "      <td>1</td>\n",
       "    </tr>\n",
       "    <tr>\n",
       "      <th>1</th>\n",
       "      <td>819949</td>\n",
       "      <td>2019-10-01 05:59:45.000</td>\n",
       "      <td>SM-10679</td>\n",
       "      <td>UI тесты раздела \"Профиль\"</td>\n",
       "      <td>5</td>\n",
       "      <td>93</td>\n",
       "      <td>93</td>\n",
       "      <td>7200</td>\n",
       "      <td>93</td>\n",
       "      <td>Разработчик мобильных приложений</td>\n",
       "      <td>...</td>\n",
       "      <td>0</td>\n",
       "      <td>1</td>\n",
       "      <td>1</td>\n",
       "      <td>1</td>\n",
       "      <td>1</td>\n",
       "      <td>819949.0</td>\n",
       "      <td>1.0</td>\n",
       "      <td>0</td>\n",
       "      <td>0</td>\n",
       "      <td>1</td>\n",
       "    </tr>\n",
       "    <tr>\n",
       "      <th>2</th>\n",
       "      <td>819947</td>\n",
       "      <td>2019-10-01 06:00:38.000</td>\n",
       "      <td>SM-10680</td>\n",
       "      <td>UI тесты раздела \"Личный счет\"</td>\n",
       "      <td>5</td>\n",
       "      <td>93</td>\n",
       "      <td>93</td>\n",
       "      <td>14400</td>\n",
       "      <td>93</td>\n",
       "      <td>Разработчик мобильных приложений</td>\n",
       "      <td>...</td>\n",
       "      <td>0</td>\n",
       "      <td>1</td>\n",
       "      <td>1</td>\n",
       "      <td>1</td>\n",
       "      <td>1</td>\n",
       "      <td>0.0</td>\n",
       "      <td>0.0</td>\n",
       "      <td>0</td>\n",
       "      <td>0</td>\n",
       "      <td>1</td>\n",
       "    </tr>\n",
       "    <tr>\n",
       "      <th>3</th>\n",
       "      <td>819943</td>\n",
       "      <td>2019-10-01 06:02:49.000</td>\n",
       "      <td>SM-10682</td>\n",
       "      <td>UI тесты раздела \"Новости\"</td>\n",
       "      <td>5</td>\n",
       "      <td>93</td>\n",
       "      <td>93</td>\n",
       "      <td>900</td>\n",
       "      <td>93</td>\n",
       "      <td>Разработчик мобильных приложений</td>\n",
       "      <td>...</td>\n",
       "      <td>0</td>\n",
       "      <td>1</td>\n",
       "      <td>1</td>\n",
       "      <td>1</td>\n",
       "      <td>1</td>\n",
       "      <td>0.0</td>\n",
       "      <td>0.0</td>\n",
       "      <td>0</td>\n",
       "      <td>0</td>\n",
       "      <td>1</td>\n",
       "    </tr>\n",
       "    <tr>\n",
       "      <th>4</th>\n",
       "      <td>819941</td>\n",
       "      <td>2019-10-01 06:03:26.000</td>\n",
       "      <td>SM-10683</td>\n",
       "      <td>UI тесты раздела \"Зоны скидок и доплат\"</td>\n",
       "      <td>5</td>\n",
       "      <td>93</td>\n",
       "      <td>93</td>\n",
       "      <td>900</td>\n",
       "      <td>93</td>\n",
       "      <td>Разработчик мобильных приложений</td>\n",
       "      <td>...</td>\n",
       "      <td>0</td>\n",
       "      <td>1</td>\n",
       "      <td>1</td>\n",
       "      <td>1</td>\n",
       "      <td>1</td>\n",
       "      <td>819941.0</td>\n",
       "      <td>1.0</td>\n",
       "      <td>0</td>\n",
       "      <td>0</td>\n",
       "      <td>1</td>\n",
       "    </tr>\n",
       "  </tbody>\n",
       "</table>\n",
       "<p>5 rows × 21 columns</p>\n",
       "</div>"
      ],
      "text/plain": [
       "     id_x                  created       key  \\\n",
       "0  819952  2019-10-01 05:57:18.000  SM-10678   \n",
       "1  819949  2019-10-01 05:59:45.000  SM-10679   \n",
       "2  819947  2019-10-01 06:00:38.000  SM-10680   \n",
       "3  819943  2019-10-01 06:02:49.000  SM-10682   \n",
       "4  819941  2019-10-01 06:03:26.000  SM-10683   \n",
       "\n",
       "                                   summary  project_id  assignee_id  \\\n",
       "0        UI тесты по заказу \"Добро КейДжи\"           5           93   \n",
       "1               UI тесты раздела \"Профиль\"           5           93   \n",
       "2           UI тесты раздела \"Личный счет\"           5           93   \n",
       "3               UI тесты раздела \"Новости\"           5           93   \n",
       "4  UI тесты раздела \"Зоны скидок и доплат\"           5           93   \n",
       "\n",
       "   creator_id  overall_worklogs  id_y                          position  ...  \\\n",
       "0          93              1800    93  Разработчик мобильных приложений  ...   \n",
       "1          93              7200    93  Разработчик мобильных приложений  ...   \n",
       "2          93             14400    93  Разработчик мобильных приложений  ...   \n",
       "3          93               900    93  Разработчик мобильных приложений  ...   \n",
       "4          93               900    93  Разработчик мобильных приложений  ...   \n",
       "\n",
       "  english_level is_nda_signed  is_labor_contract_signed  \\\n",
       "0             0             1                         1   \n",
       "1             0             1                         1   \n",
       "2             0             1                         1   \n",
       "3             0             1                         1   \n",
       "4             0             1                         1   \n",
       "\n",
       "   is_added_to_internal_chats  is_added_one_to_one  issue_id  comments_count  \\\n",
       "0                           1                    1       0.0             0.0   \n",
       "1                           1                    1  819949.0             1.0   \n",
       "2                           1                    1       0.0             0.0   \n",
       "3                           1                    1       0.0             0.0   \n",
       "4                           1                    1  819941.0             1.0   \n",
       "\n",
       "   hiring_type_0  hiring_type_non_staff  hiring_type_staff  \n",
       "0              0                      0                  1  \n",
       "1              0                      0                  1  \n",
       "2              0                      0                  1  \n",
       "3              0                      0                  1  \n",
       "4              0                      0                  1  \n",
       "\n",
       "[5 rows x 21 columns]"
      ]
     },
     "execution_count": 228,
     "metadata": {},
     "output_type": "execute_result"
    }
   ],
   "source": [
    "df_train.head()"
   ]
  },
  {
   "cell_type": "code",
   "execution_count": 229,
   "metadata": {},
   "outputs": [],
   "source": [
    "df_train = pd.get_dummies(df_train,columns = ['payment_type'], drop_first = False, dummy_na = False)"
   ]
  },
  {
   "cell_type": "code",
   "execution_count": 230,
   "metadata": {},
   "outputs": [
    {
     "data": {
      "text/html": [
       "<div>\n",
       "<style scoped>\n",
       "    .dataframe tbody tr th:only-of-type {\n",
       "        vertical-align: middle;\n",
       "    }\n",
       "\n",
       "    .dataframe tbody tr th {\n",
       "        vertical-align: top;\n",
       "    }\n",
       "\n",
       "    .dataframe thead th {\n",
       "        text-align: right;\n",
       "    }\n",
       "</style>\n",
       "<table border=\"1\" class=\"dataframe\">\n",
       "  <thead>\n",
       "    <tr style=\"text-align: right;\">\n",
       "      <th></th>\n",
       "      <th>id_x</th>\n",
       "      <th>created</th>\n",
       "      <th>key</th>\n",
       "      <th>summary</th>\n",
       "      <th>project_id</th>\n",
       "      <th>assignee_id</th>\n",
       "      <th>creator_id</th>\n",
       "      <th>overall_worklogs</th>\n",
       "      <th>id_y</th>\n",
       "      <th>position</th>\n",
       "      <th>...</th>\n",
       "      <th>is_added_to_internal_chats</th>\n",
       "      <th>is_added_one_to_one</th>\n",
       "      <th>issue_id</th>\n",
       "      <th>comments_count</th>\n",
       "      <th>hiring_type_0</th>\n",
       "      <th>hiring_type_non_staff</th>\n",
       "      <th>hiring_type_staff</th>\n",
       "      <th>payment_type_0</th>\n",
       "      <th>payment_type_fixed</th>\n",
       "      <th>payment_type_hourly</th>\n",
       "    </tr>\n",
       "  </thead>\n",
       "  <tbody>\n",
       "    <tr>\n",
       "      <th>0</th>\n",
       "      <td>819952</td>\n",
       "      <td>2019-10-01 05:57:18.000</td>\n",
       "      <td>SM-10678</td>\n",
       "      <td>UI тесты по заказу \"Добро КейДжи\"</td>\n",
       "      <td>5</td>\n",
       "      <td>93</td>\n",
       "      <td>93</td>\n",
       "      <td>1800</td>\n",
       "      <td>93</td>\n",
       "      <td>Разработчик мобильных приложений</td>\n",
       "      <td>...</td>\n",
       "      <td>1</td>\n",
       "      <td>1</td>\n",
       "      <td>0.0</td>\n",
       "      <td>0.0</td>\n",
       "      <td>0</td>\n",
       "      <td>0</td>\n",
       "      <td>1</td>\n",
       "      <td>0</td>\n",
       "      <td>1</td>\n",
       "      <td>0</td>\n",
       "    </tr>\n",
       "    <tr>\n",
       "      <th>1</th>\n",
       "      <td>819949</td>\n",
       "      <td>2019-10-01 05:59:45.000</td>\n",
       "      <td>SM-10679</td>\n",
       "      <td>UI тесты раздела \"Профиль\"</td>\n",
       "      <td>5</td>\n",
       "      <td>93</td>\n",
       "      <td>93</td>\n",
       "      <td>7200</td>\n",
       "      <td>93</td>\n",
       "      <td>Разработчик мобильных приложений</td>\n",
       "      <td>...</td>\n",
       "      <td>1</td>\n",
       "      <td>1</td>\n",
       "      <td>819949.0</td>\n",
       "      <td>1.0</td>\n",
       "      <td>0</td>\n",
       "      <td>0</td>\n",
       "      <td>1</td>\n",
       "      <td>0</td>\n",
       "      <td>1</td>\n",
       "      <td>0</td>\n",
       "    </tr>\n",
       "    <tr>\n",
       "      <th>2</th>\n",
       "      <td>819947</td>\n",
       "      <td>2019-10-01 06:00:38.000</td>\n",
       "      <td>SM-10680</td>\n",
       "      <td>UI тесты раздела \"Личный счет\"</td>\n",
       "      <td>5</td>\n",
       "      <td>93</td>\n",
       "      <td>93</td>\n",
       "      <td>14400</td>\n",
       "      <td>93</td>\n",
       "      <td>Разработчик мобильных приложений</td>\n",
       "      <td>...</td>\n",
       "      <td>1</td>\n",
       "      <td>1</td>\n",
       "      <td>0.0</td>\n",
       "      <td>0.0</td>\n",
       "      <td>0</td>\n",
       "      <td>0</td>\n",
       "      <td>1</td>\n",
       "      <td>0</td>\n",
       "      <td>1</td>\n",
       "      <td>0</td>\n",
       "    </tr>\n",
       "    <tr>\n",
       "      <th>3</th>\n",
       "      <td>819943</td>\n",
       "      <td>2019-10-01 06:02:49.000</td>\n",
       "      <td>SM-10682</td>\n",
       "      <td>UI тесты раздела \"Новости\"</td>\n",
       "      <td>5</td>\n",
       "      <td>93</td>\n",
       "      <td>93</td>\n",
       "      <td>900</td>\n",
       "      <td>93</td>\n",
       "      <td>Разработчик мобильных приложений</td>\n",
       "      <td>...</td>\n",
       "      <td>1</td>\n",
       "      <td>1</td>\n",
       "      <td>0.0</td>\n",
       "      <td>0.0</td>\n",
       "      <td>0</td>\n",
       "      <td>0</td>\n",
       "      <td>1</td>\n",
       "      <td>0</td>\n",
       "      <td>1</td>\n",
       "      <td>0</td>\n",
       "    </tr>\n",
       "    <tr>\n",
       "      <th>4</th>\n",
       "      <td>819941</td>\n",
       "      <td>2019-10-01 06:03:26.000</td>\n",
       "      <td>SM-10683</td>\n",
       "      <td>UI тесты раздела \"Зоны скидок и доплат\"</td>\n",
       "      <td>5</td>\n",
       "      <td>93</td>\n",
       "      <td>93</td>\n",
       "      <td>900</td>\n",
       "      <td>93</td>\n",
       "      <td>Разработчик мобильных приложений</td>\n",
       "      <td>...</td>\n",
       "      <td>1</td>\n",
       "      <td>1</td>\n",
       "      <td>819941.0</td>\n",
       "      <td>1.0</td>\n",
       "      <td>0</td>\n",
       "      <td>0</td>\n",
       "      <td>1</td>\n",
       "      <td>0</td>\n",
       "      <td>1</td>\n",
       "      <td>0</td>\n",
       "    </tr>\n",
       "  </tbody>\n",
       "</table>\n",
       "<p>5 rows × 23 columns</p>\n",
       "</div>"
      ],
      "text/plain": [
       "     id_x                  created       key  \\\n",
       "0  819952  2019-10-01 05:57:18.000  SM-10678   \n",
       "1  819949  2019-10-01 05:59:45.000  SM-10679   \n",
       "2  819947  2019-10-01 06:00:38.000  SM-10680   \n",
       "3  819943  2019-10-01 06:02:49.000  SM-10682   \n",
       "4  819941  2019-10-01 06:03:26.000  SM-10683   \n",
       "\n",
       "                                   summary  project_id  assignee_id  \\\n",
       "0        UI тесты по заказу \"Добро КейДжи\"           5           93   \n",
       "1               UI тесты раздела \"Профиль\"           5           93   \n",
       "2           UI тесты раздела \"Личный счет\"           5           93   \n",
       "3               UI тесты раздела \"Новости\"           5           93   \n",
       "4  UI тесты раздела \"Зоны скидок и доплат\"           5           93   \n",
       "\n",
       "   creator_id  overall_worklogs  id_y                          position  ...  \\\n",
       "0          93              1800    93  Разработчик мобильных приложений  ...   \n",
       "1          93              7200    93  Разработчик мобильных приложений  ...   \n",
       "2          93             14400    93  Разработчик мобильных приложений  ...   \n",
       "3          93               900    93  Разработчик мобильных приложений  ...   \n",
       "4          93               900    93  Разработчик мобильных приложений  ...   \n",
       "\n",
       "  is_added_to_internal_chats  is_added_one_to_one  issue_id  comments_count  \\\n",
       "0                          1                    1       0.0             0.0   \n",
       "1                          1                    1  819949.0             1.0   \n",
       "2                          1                    1       0.0             0.0   \n",
       "3                          1                    1       0.0             0.0   \n",
       "4                          1                    1  819941.0             1.0   \n",
       "\n",
       "   hiring_type_0  hiring_type_non_staff  hiring_type_staff  payment_type_0  \\\n",
       "0              0                      0                  1               0   \n",
       "1              0                      0                  1               0   \n",
       "2              0                      0                  1               0   \n",
       "3              0                      0                  1               0   \n",
       "4              0                      0                  1               0   \n",
       "\n",
       "   payment_type_fixed  payment_type_hourly  \n",
       "0                   1                    0  \n",
       "1                   1                    0  \n",
       "2                   1                    0  \n",
       "3                   1                    0  \n",
       "4                   1                    0  \n",
       "\n",
       "[5 rows x 23 columns]"
      ]
     },
     "execution_count": 230,
     "metadata": {},
     "output_type": "execute_result"
    }
   ],
   "source": [
    "df_train.head()"
   ]
  },
  {
   "cell_type": "code",
   "execution_count": 231,
   "metadata": {},
   "outputs": [],
   "source": [
    "df_train = pd.get_dummies(df_train,columns = ['english_level'], drop_first = False, dummy_na = False)"
   ]
  },
  {
   "cell_type": "code",
   "execution_count": 232,
   "metadata": {},
   "outputs": [
    {
     "data": {
      "text/html": [
       "<div>\n",
       "<style scoped>\n",
       "    .dataframe tbody tr th:only-of-type {\n",
       "        vertical-align: middle;\n",
       "    }\n",
       "\n",
       "    .dataframe tbody tr th {\n",
       "        vertical-align: top;\n",
       "    }\n",
       "\n",
       "    .dataframe thead th {\n",
       "        text-align: right;\n",
       "    }\n",
       "</style>\n",
       "<table border=\"1\" class=\"dataframe\">\n",
       "  <thead>\n",
       "    <tr style=\"text-align: right;\">\n",
       "      <th></th>\n",
       "      <th>id_x</th>\n",
       "      <th>created</th>\n",
       "      <th>key</th>\n",
       "      <th>summary</th>\n",
       "      <th>project_id</th>\n",
       "      <th>assignee_id</th>\n",
       "      <th>creator_id</th>\n",
       "      <th>overall_worklogs</th>\n",
       "      <th>id_y</th>\n",
       "      <th>position</th>\n",
       "      <th>...</th>\n",
       "      <th>comments_count</th>\n",
       "      <th>hiring_type_0</th>\n",
       "      <th>hiring_type_non_staff</th>\n",
       "      <th>hiring_type_staff</th>\n",
       "      <th>payment_type_0</th>\n",
       "      <th>payment_type_fixed</th>\n",
       "      <th>payment_type_hourly</th>\n",
       "      <th>english_level_0</th>\n",
       "      <th>english_level_B1</th>\n",
       "      <th>english_level_C1</th>\n",
       "    </tr>\n",
       "  </thead>\n",
       "  <tbody>\n",
       "    <tr>\n",
       "      <th>0</th>\n",
       "      <td>819952</td>\n",
       "      <td>2019-10-01 05:57:18.000</td>\n",
       "      <td>SM-10678</td>\n",
       "      <td>UI тесты по заказу \"Добро КейДжи\"</td>\n",
       "      <td>5</td>\n",
       "      <td>93</td>\n",
       "      <td>93</td>\n",
       "      <td>1800</td>\n",
       "      <td>93</td>\n",
       "      <td>Разработчик мобильных приложений</td>\n",
       "      <td>...</td>\n",
       "      <td>0.0</td>\n",
       "      <td>0</td>\n",
       "      <td>0</td>\n",
       "      <td>1</td>\n",
       "      <td>0</td>\n",
       "      <td>1</td>\n",
       "      <td>0</td>\n",
       "      <td>1</td>\n",
       "      <td>0</td>\n",
       "      <td>0</td>\n",
       "    </tr>\n",
       "    <tr>\n",
       "      <th>1</th>\n",
       "      <td>819949</td>\n",
       "      <td>2019-10-01 05:59:45.000</td>\n",
       "      <td>SM-10679</td>\n",
       "      <td>UI тесты раздела \"Профиль\"</td>\n",
       "      <td>5</td>\n",
       "      <td>93</td>\n",
       "      <td>93</td>\n",
       "      <td>7200</td>\n",
       "      <td>93</td>\n",
       "      <td>Разработчик мобильных приложений</td>\n",
       "      <td>...</td>\n",
       "      <td>1.0</td>\n",
       "      <td>0</td>\n",
       "      <td>0</td>\n",
       "      <td>1</td>\n",
       "      <td>0</td>\n",
       "      <td>1</td>\n",
       "      <td>0</td>\n",
       "      <td>1</td>\n",
       "      <td>0</td>\n",
       "      <td>0</td>\n",
       "    </tr>\n",
       "    <tr>\n",
       "      <th>2</th>\n",
       "      <td>819947</td>\n",
       "      <td>2019-10-01 06:00:38.000</td>\n",
       "      <td>SM-10680</td>\n",
       "      <td>UI тесты раздела \"Личный счет\"</td>\n",
       "      <td>5</td>\n",
       "      <td>93</td>\n",
       "      <td>93</td>\n",
       "      <td>14400</td>\n",
       "      <td>93</td>\n",
       "      <td>Разработчик мобильных приложений</td>\n",
       "      <td>...</td>\n",
       "      <td>0.0</td>\n",
       "      <td>0</td>\n",
       "      <td>0</td>\n",
       "      <td>1</td>\n",
       "      <td>0</td>\n",
       "      <td>1</td>\n",
       "      <td>0</td>\n",
       "      <td>1</td>\n",
       "      <td>0</td>\n",
       "      <td>0</td>\n",
       "    </tr>\n",
       "    <tr>\n",
       "      <th>3</th>\n",
       "      <td>819943</td>\n",
       "      <td>2019-10-01 06:02:49.000</td>\n",
       "      <td>SM-10682</td>\n",
       "      <td>UI тесты раздела \"Новости\"</td>\n",
       "      <td>5</td>\n",
       "      <td>93</td>\n",
       "      <td>93</td>\n",
       "      <td>900</td>\n",
       "      <td>93</td>\n",
       "      <td>Разработчик мобильных приложений</td>\n",
       "      <td>...</td>\n",
       "      <td>0.0</td>\n",
       "      <td>0</td>\n",
       "      <td>0</td>\n",
       "      <td>1</td>\n",
       "      <td>0</td>\n",
       "      <td>1</td>\n",
       "      <td>0</td>\n",
       "      <td>1</td>\n",
       "      <td>0</td>\n",
       "      <td>0</td>\n",
       "    </tr>\n",
       "    <tr>\n",
       "      <th>4</th>\n",
       "      <td>819941</td>\n",
       "      <td>2019-10-01 06:03:26.000</td>\n",
       "      <td>SM-10683</td>\n",
       "      <td>UI тесты раздела \"Зоны скидок и доплат\"</td>\n",
       "      <td>5</td>\n",
       "      <td>93</td>\n",
       "      <td>93</td>\n",
       "      <td>900</td>\n",
       "      <td>93</td>\n",
       "      <td>Разработчик мобильных приложений</td>\n",
       "      <td>...</td>\n",
       "      <td>1.0</td>\n",
       "      <td>0</td>\n",
       "      <td>0</td>\n",
       "      <td>1</td>\n",
       "      <td>0</td>\n",
       "      <td>1</td>\n",
       "      <td>0</td>\n",
       "      <td>1</td>\n",
       "      <td>0</td>\n",
       "      <td>0</td>\n",
       "    </tr>\n",
       "  </tbody>\n",
       "</table>\n",
       "<p>5 rows × 25 columns</p>\n",
       "</div>"
      ],
      "text/plain": [
       "     id_x                  created       key  \\\n",
       "0  819952  2019-10-01 05:57:18.000  SM-10678   \n",
       "1  819949  2019-10-01 05:59:45.000  SM-10679   \n",
       "2  819947  2019-10-01 06:00:38.000  SM-10680   \n",
       "3  819943  2019-10-01 06:02:49.000  SM-10682   \n",
       "4  819941  2019-10-01 06:03:26.000  SM-10683   \n",
       "\n",
       "                                   summary  project_id  assignee_id  \\\n",
       "0        UI тесты по заказу \"Добро КейДжи\"           5           93   \n",
       "1               UI тесты раздела \"Профиль\"           5           93   \n",
       "2           UI тесты раздела \"Личный счет\"           5           93   \n",
       "3               UI тесты раздела \"Новости\"           5           93   \n",
       "4  UI тесты раздела \"Зоны скидок и доплат\"           5           93   \n",
       "\n",
       "   creator_id  overall_worklogs  id_y                          position  ...  \\\n",
       "0          93              1800    93  Разработчик мобильных приложений  ...   \n",
       "1          93              7200    93  Разработчик мобильных приложений  ...   \n",
       "2          93             14400    93  Разработчик мобильных приложений  ...   \n",
       "3          93               900    93  Разработчик мобильных приложений  ...   \n",
       "4          93               900    93  Разработчик мобильных приложений  ...   \n",
       "\n",
       "   comments_count  hiring_type_0  hiring_type_non_staff  hiring_type_staff  \\\n",
       "0             0.0              0                      0                  1   \n",
       "1             1.0              0                      0                  1   \n",
       "2             0.0              0                      0                  1   \n",
       "3             0.0              0                      0                  1   \n",
       "4             1.0              0                      0                  1   \n",
       "\n",
       "   payment_type_0  payment_type_fixed  payment_type_hourly  english_level_0  \\\n",
       "0               0                   1                    0                1   \n",
       "1               0                   1                    0                1   \n",
       "2               0                   1                    0                1   \n",
       "3               0                   1                    0                1   \n",
       "4               0                   1                    0                1   \n",
       "\n",
       "   english_level_B1  english_level_C1  \n",
       "0                 0                 0  \n",
       "1                 0                 0  \n",
       "2                 0                 0  \n",
       "3                 0                 0  \n",
       "4                 0                 0  \n",
       "\n",
       "[5 rows x 25 columns]"
      ]
     },
     "execution_count": 232,
     "metadata": {},
     "output_type": "execute_result"
    }
   ],
   "source": [
    "df_train.head()"
   ]
  },
  {
   "cell_type": "markdown",
   "metadata": {
    "id": "VLOa56f5zfUg"
   },
   "source": [
    "## Выделим выборки"
   ]
  },
  {
   "cell_type": "markdown",
   "metadata": {
    "id": "845Wf3zJ1dhc"
   },
   "source": [
    "Удалим все лишние столбцы из выборки"
   ]
  },
  {
   "cell_type": "code",
   "execution_count": 233,
   "metadata": {
    "id": "4iEbKu75_WS5"
   },
   "outputs": [],
   "source": [
    "#mass_object = df_train.dtypes[df_train.dtypes == \"object\"].index.values"
   ]
  },
  {
   "cell_type": "code",
   "execution_count": 234,
   "metadata": {},
   "outputs": [],
   "source": [
    "mass_object = ['created', 'key', 'summary', 'position']"
   ]
  },
  {
   "cell_type": "code",
   "execution_count": 235,
   "metadata": {
    "id": "EdTqs5ixsOkp"
   },
   "outputs": [],
   "source": [
    "stuff = [\"id_x\",\"id_y\",\"overall_worklogs\"]\n",
    "mass_object = np.append(mass_object, stuff)"
   ]
  },
  {
   "cell_type": "code",
   "execution_count": 236,
   "metadata": {
    "id": "czsoZexkyyTw"
   },
   "outputs": [],
   "source": [
    "X = df_train.drop(mass_object, axis = 1)\n",
    "y = df_train[[\"overall_worklogs\"]]"
   ]
  },
  {
   "cell_type": "code",
   "execution_count": 237,
   "metadata": {
    "colab": {
     "base_uri": "https://localhost:8080/",
     "height": 207
    },
    "id": "8vDLwzjg_Zci",
    "outputId": "d46c9b23-c7f7-4a15-bfbf-7eedf600a00f"
   },
   "outputs": [
    {
     "data": {
      "text/html": [
       "<div>\n",
       "<style scoped>\n",
       "    .dataframe tbody tr th:only-of-type {\n",
       "        vertical-align: middle;\n",
       "    }\n",
       "\n",
       "    .dataframe tbody tr th {\n",
       "        vertical-align: top;\n",
       "    }\n",
       "\n",
       "    .dataframe thead th {\n",
       "        text-align: right;\n",
       "    }\n",
       "</style>\n",
       "<table border=\"1\" class=\"dataframe\">\n",
       "  <thead>\n",
       "    <tr style=\"text-align: right;\">\n",
       "      <th></th>\n",
       "      <th>project_id</th>\n",
       "      <th>assignee_id</th>\n",
       "      <th>creator_id</th>\n",
       "      <th>is_nda_signed</th>\n",
       "      <th>is_labor_contract_signed</th>\n",
       "      <th>is_added_to_internal_chats</th>\n",
       "      <th>is_added_one_to_one</th>\n",
       "      <th>issue_id</th>\n",
       "      <th>comments_count</th>\n",
       "      <th>hiring_type_0</th>\n",
       "      <th>hiring_type_non_staff</th>\n",
       "      <th>hiring_type_staff</th>\n",
       "      <th>payment_type_0</th>\n",
       "      <th>payment_type_fixed</th>\n",
       "      <th>payment_type_hourly</th>\n",
       "      <th>english_level_0</th>\n",
       "      <th>english_level_B1</th>\n",
       "      <th>english_level_C1</th>\n",
       "    </tr>\n",
       "  </thead>\n",
       "  <tbody>\n",
       "    <tr>\n",
       "      <th>0</th>\n",
       "      <td>5</td>\n",
       "      <td>93</td>\n",
       "      <td>93</td>\n",
       "      <td>1</td>\n",
       "      <td>1</td>\n",
       "      <td>1</td>\n",
       "      <td>1</td>\n",
       "      <td>0.0</td>\n",
       "      <td>0.0</td>\n",
       "      <td>0</td>\n",
       "      <td>0</td>\n",
       "      <td>1</td>\n",
       "      <td>0</td>\n",
       "      <td>1</td>\n",
       "      <td>0</td>\n",
       "      <td>1</td>\n",
       "      <td>0</td>\n",
       "      <td>0</td>\n",
       "    </tr>\n",
       "    <tr>\n",
       "      <th>1</th>\n",
       "      <td>5</td>\n",
       "      <td>93</td>\n",
       "      <td>93</td>\n",
       "      <td>1</td>\n",
       "      <td>1</td>\n",
       "      <td>1</td>\n",
       "      <td>1</td>\n",
       "      <td>819949.0</td>\n",
       "      <td>1.0</td>\n",
       "      <td>0</td>\n",
       "      <td>0</td>\n",
       "      <td>1</td>\n",
       "      <td>0</td>\n",
       "      <td>1</td>\n",
       "      <td>0</td>\n",
       "      <td>1</td>\n",
       "      <td>0</td>\n",
       "      <td>0</td>\n",
       "    </tr>\n",
       "    <tr>\n",
       "      <th>2</th>\n",
       "      <td>5</td>\n",
       "      <td>93</td>\n",
       "      <td>93</td>\n",
       "      <td>1</td>\n",
       "      <td>1</td>\n",
       "      <td>1</td>\n",
       "      <td>1</td>\n",
       "      <td>0.0</td>\n",
       "      <td>0.0</td>\n",
       "      <td>0</td>\n",
       "      <td>0</td>\n",
       "      <td>1</td>\n",
       "      <td>0</td>\n",
       "      <td>1</td>\n",
       "      <td>0</td>\n",
       "      <td>1</td>\n",
       "      <td>0</td>\n",
       "      <td>0</td>\n",
       "    </tr>\n",
       "  </tbody>\n",
       "</table>\n",
       "</div>"
      ],
      "text/plain": [
       "   project_id  assignee_id  creator_id  is_nda_signed  \\\n",
       "0           5           93          93              1   \n",
       "1           5           93          93              1   \n",
       "2           5           93          93              1   \n",
       "\n",
       "   is_labor_contract_signed  is_added_to_internal_chats  is_added_one_to_one  \\\n",
       "0                         1                           1                    1   \n",
       "1                         1                           1                    1   \n",
       "2                         1                           1                    1   \n",
       "\n",
       "   issue_id  comments_count  hiring_type_0  hiring_type_non_staff  \\\n",
       "0       0.0             0.0              0                      0   \n",
       "1  819949.0             1.0              0                      0   \n",
       "2       0.0             0.0              0                      0   \n",
       "\n",
       "   hiring_type_staff  payment_type_0  payment_type_fixed  payment_type_hourly  \\\n",
       "0                  1               0                   1                    0   \n",
       "1                  1               0                   1                    0   \n",
       "2                  1               0                   1                    0   \n",
       "\n",
       "   english_level_0  english_level_B1  english_level_C1  \n",
       "0                1                 0                 0  \n",
       "1                1                 0                 0  \n",
       "2                1                 0                 0  "
      ]
     },
     "execution_count": 237,
     "metadata": {},
     "output_type": "execute_result"
    }
   ],
   "source": [
    "X.head(3)"
   ]
  },
  {
   "cell_type": "code",
   "execution_count": 238,
   "metadata": {
    "colab": {
     "base_uri": "https://localhost:8080/"
    },
    "id": "BSNwra3e07wI",
    "outputId": "33e4c07a-b3cf-48f4-b6e3-7a6ab0c0276b"
   },
   "outputs": [
    {
     "data": {
      "text/plain": [
       "(9589, 18)"
      ]
     },
     "execution_count": 238,
     "metadata": {},
     "output_type": "execute_result"
    }
   ],
   "source": [
    "X.shape"
   ]
  },
  {
   "cell_type": "code",
   "execution_count": 239,
   "metadata": {
    "id": "E-LfoARf2WGZ"
   },
   "outputs": [],
   "source": [
    "X_train, X_test, y_train, y_test = train_test_split(X, y, test_size=0.3, random_state=42)"
   ]
  },
  {
   "cell_type": "markdown",
   "metadata": {
    "id": "60NotS9ehbO5"
   },
   "source": [
    "## Обучение модели"
   ]
  },
  {
   "cell_type": "code",
   "execution_count": 247,
   "metadata": {
    "id": "jc-KKFlWf6_N"
   },
   "outputs": [],
   "source": [
    "from sklearn.ensemble import RandomForestRegressor\n",
    "\n",
    "clf = RandomForestRegressor(random_state=0)"
   ]
  },
  {
   "cell_type": "code",
   "execution_count": 248,
   "metadata": {
    "colab": {
     "base_uri": "https://localhost:8080/"
    },
    "id": "bc8JAH4yf7Bs",
    "outputId": "6b3ee8bb-9b68-4f75-f90f-fd86d520f362"
   },
   "outputs": [
    {
     "name": "stderr",
     "output_type": "stream",
     "text": [
      "C:\\Users\\Сергей\\AppData\\Local\\Temp\\ipykernel_15704\\2395142735.py:1: DataConversionWarning: A column-vector y was passed when a 1d array was expected. Please change the shape of y to (n_samples,), for example using ravel().\n",
      "  clf.fit(X_train, y_train)\n"
     ]
    },
    {
     "data": {
      "text/html": [
       "<style>#sk-container-id-5 {color: black;background-color: white;}#sk-container-id-5 pre{padding: 0;}#sk-container-id-5 div.sk-toggleable {background-color: white;}#sk-container-id-5 label.sk-toggleable__label {cursor: pointer;display: block;width: 100%;margin-bottom: 0;padding: 0.3em;box-sizing: border-box;text-align: center;}#sk-container-id-5 label.sk-toggleable__label-arrow:before {content: \"▸\";float: left;margin-right: 0.25em;color: #696969;}#sk-container-id-5 label.sk-toggleable__label-arrow:hover:before {color: black;}#sk-container-id-5 div.sk-estimator:hover label.sk-toggleable__label-arrow:before {color: black;}#sk-container-id-5 div.sk-toggleable__content {max-height: 0;max-width: 0;overflow: hidden;text-align: left;background-color: #f0f8ff;}#sk-container-id-5 div.sk-toggleable__content pre {margin: 0.2em;color: black;border-radius: 0.25em;background-color: #f0f8ff;}#sk-container-id-5 input.sk-toggleable__control:checked~div.sk-toggleable__content {max-height: 200px;max-width: 100%;overflow: auto;}#sk-container-id-5 input.sk-toggleable__control:checked~label.sk-toggleable__label-arrow:before {content: \"▾\";}#sk-container-id-5 div.sk-estimator input.sk-toggleable__control:checked~label.sk-toggleable__label {background-color: #d4ebff;}#sk-container-id-5 div.sk-label input.sk-toggleable__control:checked~label.sk-toggleable__label {background-color: #d4ebff;}#sk-container-id-5 input.sk-hidden--visually {border: 0;clip: rect(1px 1px 1px 1px);clip: rect(1px, 1px, 1px, 1px);height: 1px;margin: -1px;overflow: hidden;padding: 0;position: absolute;width: 1px;}#sk-container-id-5 div.sk-estimator {font-family: monospace;background-color: #f0f8ff;border: 1px dotted black;border-radius: 0.25em;box-sizing: border-box;margin-bottom: 0.5em;}#sk-container-id-5 div.sk-estimator:hover {background-color: #d4ebff;}#sk-container-id-5 div.sk-parallel-item::after {content: \"\";width: 100%;border-bottom: 1px solid gray;flex-grow: 1;}#sk-container-id-5 div.sk-label:hover label.sk-toggleable__label {background-color: #d4ebff;}#sk-container-id-5 div.sk-serial::before {content: \"\";position: absolute;border-left: 1px solid gray;box-sizing: border-box;top: 0;bottom: 0;left: 50%;z-index: 0;}#sk-container-id-5 div.sk-serial {display: flex;flex-direction: column;align-items: center;background-color: white;padding-right: 0.2em;padding-left: 0.2em;position: relative;}#sk-container-id-5 div.sk-item {position: relative;z-index: 1;}#sk-container-id-5 div.sk-parallel {display: flex;align-items: stretch;justify-content: center;background-color: white;position: relative;}#sk-container-id-5 div.sk-item::before, #sk-container-id-5 div.sk-parallel-item::before {content: \"\";position: absolute;border-left: 1px solid gray;box-sizing: border-box;top: 0;bottom: 0;left: 50%;z-index: -1;}#sk-container-id-5 div.sk-parallel-item {display: flex;flex-direction: column;z-index: 1;position: relative;background-color: white;}#sk-container-id-5 div.sk-parallel-item:first-child::after {align-self: flex-end;width: 50%;}#sk-container-id-5 div.sk-parallel-item:last-child::after {align-self: flex-start;width: 50%;}#sk-container-id-5 div.sk-parallel-item:only-child::after {width: 0;}#sk-container-id-5 div.sk-dashed-wrapped {border: 1px dashed gray;margin: 0 0.4em 0.5em 0.4em;box-sizing: border-box;padding-bottom: 0.4em;background-color: white;}#sk-container-id-5 div.sk-label label {font-family: monospace;font-weight: bold;display: inline-block;line-height: 1.2em;}#sk-container-id-5 div.sk-label-container {text-align: center;}#sk-container-id-5 div.sk-container {/* jupyter's `normalize.less` sets `[hidden] { display: none; }` but bootstrap.min.css set `[hidden] { display: none !important; }` so we also need the `!important` here to be able to override the default hidden behavior on the sphinx rendered scikit-learn.org. See: https://github.com/scikit-learn/scikit-learn/issues/21755 */display: inline-block !important;position: relative;}#sk-container-id-5 div.sk-text-repr-fallback {display: none;}</style><div id=\"sk-container-id-5\" class=\"sk-top-container\"><div class=\"sk-text-repr-fallback\"><pre>RandomForestRegressor(random_state=0)</pre><b>In a Jupyter environment, please rerun this cell to show the HTML representation or trust the notebook. <br />On GitHub, the HTML representation is unable to render, please try loading this page with nbviewer.org.</b></div><div class=\"sk-container\" hidden><div class=\"sk-item\"><div class=\"sk-estimator sk-toggleable\"><input class=\"sk-toggleable__control sk-hidden--visually\" id=\"sk-estimator-id-5\" type=\"checkbox\" checked><label for=\"sk-estimator-id-5\" class=\"sk-toggleable__label sk-toggleable__label-arrow\">RandomForestRegressor</label><div class=\"sk-toggleable__content\"><pre>RandomForestRegressor(random_state=0)</pre></div></div></div></div></div>"
      ],
      "text/plain": [
       "RandomForestRegressor(random_state=0)"
      ]
     },
     "execution_count": 248,
     "metadata": {},
     "output_type": "execute_result"
    }
   ],
   "source": [
    "clf.fit(X_train, y_train)"
   ]
  },
  {
   "cell_type": "markdown",
   "metadata": {
    "id": "6Y60HHS5jKeN"
   },
   "source": [
    "## Оценка точности"
   ]
  },
  {
   "cell_type": "code",
   "execution_count": 249,
   "metadata": {
    "id": "UV0kmZqGf7D-"
   },
   "outputs": [],
   "source": [
    "pred = clf.predict(X_test)"
   ]
  },
  {
   "cell_type": "code",
   "execution_count": 250,
   "metadata": {
    "id": "AgEZTGYujQMW"
   },
   "outputs": [],
   "source": [
    "from sklearn.metrics import r2_score\n",
    "\n",
    "score = r2_score(y_test, pred)"
   ]
  },
  {
   "cell_type": "code",
   "execution_count": 251,
   "metadata": {
    "colab": {
     "base_uri": "https://localhost:8080/"
    },
    "id": "P7IL7Tr4ptpv",
    "outputId": "701533ea-f1ac-4d77-f9db-cceabd567bc7"
   },
   "outputs": [
    {
     "data": {
      "text/plain": [
       "-0.30475887282630265"
      ]
     },
     "execution_count": 251,
     "metadata": {},
     "output_type": "execute_result"
    }
   ],
   "source": [
    "score"
   ]
  },
  {
   "cell_type": "markdown",
   "metadata": {},
   "source": [
    "## Выдаем предсказания"
   ]
  },
  {
   "cell_type": "code",
   "execution_count": 252,
   "metadata": {},
   "outputs": [],
   "source": [
    "df_issues_test = pd.read_csv(\"./content/test_issues.csv\")\n",
    "df_comment_test = pd.read_csv(\"./content/test_comments.csv\")\n",
    "df_emp = pd.read_csv(\"./content/employees.csv\")\n",
    "\n",
    "df_emp = df_emp.drop([\"active\",\"full_name\", \"salary_calculation_type\", \"passport\"],axis = 1)\n",
    "\n",
    "df_test = pd.merge(df_issues_test, df_emp, left_on=\"assignee_id\", right_on=\"id\", how='inner')\n",
    "\n",
    "df_comment_test_sum = df_comment_test.groupby(['issue_id'])['issue_id'].agg([lambda x:x.count()])\n",
    "df_comment_test_sum = df_comment_test_sum.reset_index()\n",
    "df_comment_test_sum.columns = ['issue_id', 'comments_count']\n",
    "\n",
    "df_test = pd.merge(df_test, df_comment_test_sum, left_on=\"id_x\", right_on=\"issue_id\", how='outer')\n",
    "\n",
    "df_test = df_test.fillna(0)\n",
    "\n",
    "df_test = pd.get_dummies(df_test,columns = ['hiring_type'], drop_first = False, dummy_na = False)\n",
    "df_test = pd.get_dummies(df_test,columns = ['payment_type'], drop_first = False, dummy_na = False)\n",
    "df_test = pd.get_dummies(df_test,columns = ['english_level'], drop_first = False, dummy_na = False)\n",
    "\n",
    "df_test = df_test.set_index('id_x')\n",
    "\n",
    "mass_object = df_test.dtypes[df_test.dtypes == \"object\"].index.values\n",
    "stuff = [\"id_y\"]\n",
    "mass_object = np.append(mass_object, stuff)\n",
    "\n",
    "X = df_test.drop(mass_object, axis = 1)\n",
    "#y = df_test[[\"overall_worklogs\"]]"
   ]
  },
  {
   "cell_type": "code",
   "execution_count": 253,
   "metadata": {},
   "outputs": [
    {
     "data": {
      "text/html": [
       "<div>\n",
       "<style scoped>\n",
       "    .dataframe tbody tr th:only-of-type {\n",
       "        vertical-align: middle;\n",
       "    }\n",
       "\n",
       "    .dataframe tbody tr th {\n",
       "        vertical-align: top;\n",
       "    }\n",
       "\n",
       "    .dataframe thead th {\n",
       "        text-align: right;\n",
       "    }\n",
       "</style>\n",
       "<table border=\"1\" class=\"dataframe\">\n",
       "  <thead>\n",
       "    <tr style=\"text-align: right;\">\n",
       "      <th></th>\n",
       "      <th>project_id</th>\n",
       "      <th>assignee_id</th>\n",
       "      <th>creator_id</th>\n",
       "      <th>is_nda_signed</th>\n",
       "      <th>is_labor_contract_signed</th>\n",
       "      <th>is_added_to_internal_chats</th>\n",
       "      <th>is_added_one_to_one</th>\n",
       "      <th>issue_id</th>\n",
       "      <th>comments_count</th>\n",
       "      <th>hiring_type_0</th>\n",
       "      <th>hiring_type_non_staff</th>\n",
       "      <th>hiring_type_staff</th>\n",
       "      <th>payment_type_0</th>\n",
       "      <th>payment_type_fixed</th>\n",
       "      <th>payment_type_hourly</th>\n",
       "      <th>english_level_0</th>\n",
       "      <th>english_level_B1</th>\n",
       "      <th>english_level_C1</th>\n",
       "    </tr>\n",
       "    <tr>\n",
       "      <th>id_x</th>\n",
       "      <th></th>\n",
       "      <th></th>\n",
       "      <th></th>\n",
       "      <th></th>\n",
       "      <th></th>\n",
       "      <th></th>\n",
       "      <th></th>\n",
       "      <th></th>\n",
       "      <th></th>\n",
       "      <th></th>\n",
       "      <th></th>\n",
       "      <th></th>\n",
       "      <th></th>\n",
       "      <th></th>\n",
       "      <th></th>\n",
       "      <th></th>\n",
       "      <th></th>\n",
       "      <th></th>\n",
       "    </tr>\n",
       "  </thead>\n",
       "  <tbody>\n",
       "    <tr>\n",
       "      <th>675975</th>\n",
       "      <td>5</td>\n",
       "      <td>112</td>\n",
       "      <td>112</td>\n",
       "      <td>0</td>\n",
       "      <td>0</td>\n",
       "      <td>0</td>\n",
       "      <td>0</td>\n",
       "      <td>675975.0</td>\n",
       "      <td>8.0</td>\n",
       "      <td>0</td>\n",
       "      <td>0</td>\n",
       "      <td>1</td>\n",
       "      <td>0</td>\n",
       "      <td>1</td>\n",
       "      <td>0</td>\n",
       "      <td>1</td>\n",
       "      <td>0</td>\n",
       "      <td>0</td>\n",
       "    </tr>\n",
       "    <tr>\n",
       "      <th>675972</th>\n",
       "      <td>5</td>\n",
       "      <td>112</td>\n",
       "      <td>112</td>\n",
       "      <td>0</td>\n",
       "      <td>0</td>\n",
       "      <td>0</td>\n",
       "      <td>0</td>\n",
       "      <td>675972.0</td>\n",
       "      <td>4.0</td>\n",
       "      <td>0</td>\n",
       "      <td>0</td>\n",
       "      <td>1</td>\n",
       "      <td>0</td>\n",
       "      <td>1</td>\n",
       "      <td>0</td>\n",
       "      <td>1</td>\n",
       "      <td>0</td>\n",
       "      <td>0</td>\n",
       "    </tr>\n",
       "    <tr>\n",
       "      <th>675917</th>\n",
       "      <td>5</td>\n",
       "      <td>112</td>\n",
       "      <td>1</td>\n",
       "      <td>0</td>\n",
       "      <td>0</td>\n",
       "      <td>0</td>\n",
       "      <td>0</td>\n",
       "      <td>0.0</td>\n",
       "      <td>0.0</td>\n",
       "      <td>0</td>\n",
       "      <td>0</td>\n",
       "      <td>1</td>\n",
       "      <td>0</td>\n",
       "      <td>1</td>\n",
       "      <td>0</td>\n",
       "      <td>1</td>\n",
       "      <td>0</td>\n",
       "      <td>0</td>\n",
       "    </tr>\n",
       "    <tr>\n",
       "      <th>675915</th>\n",
       "      <td>5</td>\n",
       "      <td>112</td>\n",
       "      <td>1</td>\n",
       "      <td>0</td>\n",
       "      <td>0</td>\n",
       "      <td>0</td>\n",
       "      <td>0</td>\n",
       "      <td>675915.0</td>\n",
       "      <td>1.0</td>\n",
       "      <td>0</td>\n",
       "      <td>0</td>\n",
       "      <td>1</td>\n",
       "      <td>0</td>\n",
       "      <td>1</td>\n",
       "      <td>0</td>\n",
       "      <td>1</td>\n",
       "      <td>0</td>\n",
       "      <td>0</td>\n",
       "    </tr>\n",
       "    <tr>\n",
       "      <th>675912</th>\n",
       "      <td>5</td>\n",
       "      <td>112</td>\n",
       "      <td>1</td>\n",
       "      <td>0</td>\n",
       "      <td>0</td>\n",
       "      <td>0</td>\n",
       "      <td>0</td>\n",
       "      <td>675912.0</td>\n",
       "      <td>1.0</td>\n",
       "      <td>0</td>\n",
       "      <td>0</td>\n",
       "      <td>1</td>\n",
       "      <td>0</td>\n",
       "      <td>1</td>\n",
       "      <td>0</td>\n",
       "      <td>1</td>\n",
       "      <td>0</td>\n",
       "      <td>0</td>\n",
       "    </tr>\n",
       "    <tr>\n",
       "      <th>...</th>\n",
       "      <td>...</td>\n",
       "      <td>...</td>\n",
       "      <td>...</td>\n",
       "      <td>...</td>\n",
       "      <td>...</td>\n",
       "      <td>...</td>\n",
       "      <td>...</td>\n",
       "      <td>...</td>\n",
       "      <td>...</td>\n",
       "      <td>...</td>\n",
       "      <td>...</td>\n",
       "      <td>...</td>\n",
       "      <td>...</td>\n",
       "      <td>...</td>\n",
       "      <td>...</td>\n",
       "      <td>...</td>\n",
       "      <td>...</td>\n",
       "      <td>...</td>\n",
       "    </tr>\n",
       "    <tr>\n",
       "      <th>2176348</th>\n",
       "      <td>29</td>\n",
       "      <td>191</td>\n",
       "      <td>191</td>\n",
       "      <td>1</td>\n",
       "      <td>1</td>\n",
       "      <td>1</td>\n",
       "      <td>1</td>\n",
       "      <td>2176348.0</td>\n",
       "      <td>1.0</td>\n",
       "      <td>0</td>\n",
       "      <td>0</td>\n",
       "      <td>1</td>\n",
       "      <td>0</td>\n",
       "      <td>0</td>\n",
       "      <td>1</td>\n",
       "      <td>0</td>\n",
       "      <td>0</td>\n",
       "      <td>1</td>\n",
       "    </tr>\n",
       "    <tr>\n",
       "      <th>2176673</th>\n",
       "      <td>29</td>\n",
       "      <td>191</td>\n",
       "      <td>192</td>\n",
       "      <td>1</td>\n",
       "      <td>1</td>\n",
       "      <td>1</td>\n",
       "      <td>1</td>\n",
       "      <td>2176673.0</td>\n",
       "      <td>4.0</td>\n",
       "      <td>0</td>\n",
       "      <td>0</td>\n",
       "      <td>1</td>\n",
       "      <td>0</td>\n",
       "      <td>0</td>\n",
       "      <td>1</td>\n",
       "      <td>0</td>\n",
       "      <td>0</td>\n",
       "      <td>1</td>\n",
       "    </tr>\n",
       "    <tr>\n",
       "      <th>686533</th>\n",
       "      <td>33</td>\n",
       "      <td>246</td>\n",
       "      <td>58</td>\n",
       "      <td>1</td>\n",
       "      <td>1</td>\n",
       "      <td>1</td>\n",
       "      <td>1</td>\n",
       "      <td>686533.0</td>\n",
       "      <td>2.0</td>\n",
       "      <td>0</td>\n",
       "      <td>0</td>\n",
       "      <td>1</td>\n",
       "      <td>0</td>\n",
       "      <td>0</td>\n",
       "      <td>1</td>\n",
       "      <td>1</td>\n",
       "      <td>0</td>\n",
       "      <td>0</td>\n",
       "    </tr>\n",
       "    <tr>\n",
       "      <th>686395</th>\n",
       "      <td>33</td>\n",
       "      <td>13</td>\n",
       "      <td>58</td>\n",
       "      <td>1</td>\n",
       "      <td>1</td>\n",
       "      <td>1</td>\n",
       "      <td>1</td>\n",
       "      <td>0.0</td>\n",
       "      <td>0.0</td>\n",
       "      <td>0</td>\n",
       "      <td>0</td>\n",
       "      <td>1</td>\n",
       "      <td>0</td>\n",
       "      <td>1</td>\n",
       "      <td>0</td>\n",
       "      <td>1</td>\n",
       "      <td>0</td>\n",
       "      <td>0</td>\n",
       "    </tr>\n",
       "    <tr>\n",
       "      <th>670929</th>\n",
       "      <td>56</td>\n",
       "      <td>2</td>\n",
       "      <td>2</td>\n",
       "      <td>0</td>\n",
       "      <td>0</td>\n",
       "      <td>0</td>\n",
       "      <td>0</td>\n",
       "      <td>670929.0</td>\n",
       "      <td>1.0</td>\n",
       "      <td>0</td>\n",
       "      <td>0</td>\n",
       "      <td>1</td>\n",
       "      <td>0</td>\n",
       "      <td>1</td>\n",
       "      <td>0</td>\n",
       "      <td>1</td>\n",
       "      <td>0</td>\n",
       "      <td>0</td>\n",
       "    </tr>\n",
       "  </tbody>\n",
       "</table>\n",
       "<p>1070 rows × 18 columns</p>\n",
       "</div>"
      ],
      "text/plain": [
       "         project_id  assignee_id  creator_id  is_nda_signed  \\\n",
       "id_x                                                          \n",
       "675975            5          112         112              0   \n",
       "675972            5          112         112              0   \n",
       "675917            5          112           1              0   \n",
       "675915            5          112           1              0   \n",
       "675912            5          112           1              0   \n",
       "...             ...          ...         ...            ...   \n",
       "2176348          29          191         191              1   \n",
       "2176673          29          191         192              1   \n",
       "686533           33          246          58              1   \n",
       "686395           33           13          58              1   \n",
       "670929           56            2           2              0   \n",
       "\n",
       "         is_labor_contract_signed  is_added_to_internal_chats  \\\n",
       "id_x                                                            \n",
       "675975                          0                           0   \n",
       "675972                          0                           0   \n",
       "675917                          0                           0   \n",
       "675915                          0                           0   \n",
       "675912                          0                           0   \n",
       "...                           ...                         ...   \n",
       "2176348                         1                           1   \n",
       "2176673                         1                           1   \n",
       "686533                          1                           1   \n",
       "686395                          1                           1   \n",
       "670929                          0                           0   \n",
       "\n",
       "         is_added_one_to_one   issue_id  comments_count  hiring_type_0  \\\n",
       "id_x                                                                     \n",
       "675975                     0   675975.0             8.0              0   \n",
       "675972                     0   675972.0             4.0              0   \n",
       "675917                     0        0.0             0.0              0   \n",
       "675915                     0   675915.0             1.0              0   \n",
       "675912                     0   675912.0             1.0              0   \n",
       "...                      ...        ...             ...            ...   \n",
       "2176348                    1  2176348.0             1.0              0   \n",
       "2176673                    1  2176673.0             4.0              0   \n",
       "686533                     1   686533.0             2.0              0   \n",
       "686395                     1        0.0             0.0              0   \n",
       "670929                     0   670929.0             1.0              0   \n",
       "\n",
       "         hiring_type_non_staff  hiring_type_staff  payment_type_0  \\\n",
       "id_x                                                                \n",
       "675975                       0                  1               0   \n",
       "675972                       0                  1               0   \n",
       "675917                       0                  1               0   \n",
       "675915                       0                  1               0   \n",
       "675912                       0                  1               0   \n",
       "...                        ...                ...             ...   \n",
       "2176348                      0                  1               0   \n",
       "2176673                      0                  1               0   \n",
       "686533                       0                  1               0   \n",
       "686395                       0                  1               0   \n",
       "670929                       0                  1               0   \n",
       "\n",
       "         payment_type_fixed  payment_type_hourly  english_level_0  \\\n",
       "id_x                                                                \n",
       "675975                    1                    0                1   \n",
       "675972                    1                    0                1   \n",
       "675917                    1                    0                1   \n",
       "675915                    1                    0                1   \n",
       "675912                    1                    0                1   \n",
       "...                     ...                  ...              ...   \n",
       "2176348                   0                    1                0   \n",
       "2176673                   0                    1                0   \n",
       "686533                    0                    1                1   \n",
       "686395                    1                    0                1   \n",
       "670929                    1                    0                1   \n",
       "\n",
       "         english_level_B1  english_level_C1  \n",
       "id_x                                         \n",
       "675975                  0                 0  \n",
       "675972                  0                 0  \n",
       "675917                  0                 0  \n",
       "675915                  0                 0  \n",
       "675912                  0                 0  \n",
       "...                   ...               ...  \n",
       "2176348                 0                 1  \n",
       "2176673                 0                 1  \n",
       "686533                  0                 0  \n",
       "686395                  0                 0  \n",
       "670929                  0                 0  \n",
       "\n",
       "[1070 rows x 18 columns]"
      ]
     },
     "execution_count": 253,
     "metadata": {},
     "output_type": "execute_result"
    }
   ],
   "source": [
    "X"
   ]
  },
  {
   "cell_type": "code",
   "execution_count": 254,
   "metadata": {},
   "outputs": [],
   "source": [
    "pred = clf.predict(X)"
   ]
  },
  {
   "cell_type": "code",
   "execution_count": 255,
   "metadata": {},
   "outputs": [],
   "source": [
    "X['overall_worklogs'] = pred"
   ]
  },
  {
   "cell_type": "code",
   "execution_count": 256,
   "metadata": {},
   "outputs": [
    {
     "data": {
      "text/html": [
       "<div>\n",
       "<style scoped>\n",
       "    .dataframe tbody tr th:only-of-type {\n",
       "        vertical-align: middle;\n",
       "    }\n",
       "\n",
       "    .dataframe tbody tr th {\n",
       "        vertical-align: top;\n",
       "    }\n",
       "\n",
       "    .dataframe thead th {\n",
       "        text-align: right;\n",
       "    }\n",
       "</style>\n",
       "<table border=\"1\" class=\"dataframe\">\n",
       "  <thead>\n",
       "    <tr style=\"text-align: right;\">\n",
       "      <th></th>\n",
       "      <th>id_x</th>\n",
       "      <th>overall_worklogs</th>\n",
       "    </tr>\n",
       "  </thead>\n",
       "  <tbody>\n",
       "    <tr>\n",
       "      <th>0</th>\n",
       "      <td>675975</td>\n",
       "      <td>37691.400000</td>\n",
       "    </tr>\n",
       "    <tr>\n",
       "      <th>1</th>\n",
       "      <td>675972</td>\n",
       "      <td>26486.400000</td>\n",
       "    </tr>\n",
       "    <tr>\n",
       "      <th>2</th>\n",
       "      <td>675917</td>\n",
       "      <td>20458.937372</td>\n",
       "    </tr>\n",
       "    <tr>\n",
       "      <th>3</th>\n",
       "      <td>675915</td>\n",
       "      <td>7113.543329</td>\n",
       "    </tr>\n",
       "    <tr>\n",
       "      <th>4</th>\n",
       "      <td>675912</td>\n",
       "      <td>7113.543329</td>\n",
       "    </tr>\n",
       "    <tr>\n",
       "      <th>...</th>\n",
       "      <td>...</td>\n",
       "      <td>...</td>\n",
       "    </tr>\n",
       "    <tr>\n",
       "      <th>1065</th>\n",
       "      <td>2176348</td>\n",
       "      <td>195883.340000</td>\n",
       "    </tr>\n",
       "    <tr>\n",
       "      <th>1066</th>\n",
       "      <td>2176673</td>\n",
       "      <td>215086.940000</td>\n",
       "    </tr>\n",
       "    <tr>\n",
       "      <th>1067</th>\n",
       "      <td>686533</td>\n",
       "      <td>14623.000000</td>\n",
       "    </tr>\n",
       "    <tr>\n",
       "      <th>1068</th>\n",
       "      <td>686395</td>\n",
       "      <td>34513.465061</td>\n",
       "    </tr>\n",
       "    <tr>\n",
       "      <th>1069</th>\n",
       "      <td>670929</td>\n",
       "      <td>12343.883505</td>\n",
       "    </tr>\n",
       "  </tbody>\n",
       "</table>\n",
       "<p>1070 rows × 2 columns</p>\n",
       "</div>"
      ],
      "text/plain": [
       "         id_x  overall_worklogs\n",
       "0      675975      37691.400000\n",
       "1      675972      26486.400000\n",
       "2      675917      20458.937372\n",
       "3      675915       7113.543329\n",
       "4      675912       7113.543329\n",
       "...       ...               ...\n",
       "1065  2176348     195883.340000\n",
       "1066  2176673     215086.940000\n",
       "1067   686533      14623.000000\n",
       "1068   686395      34513.465061\n",
       "1069   670929      12343.883505\n",
       "\n",
       "[1070 rows x 2 columns]"
      ]
     },
     "execution_count": 256,
     "metadata": {},
     "output_type": "execute_result"
    }
   ],
   "source": [
    "df_submission = X.reset_index()\n",
    "df_submission = df_submission[['id_x', 'overall_worklogs']]\n",
    "df_submission"
   ]
  },
  {
   "cell_type": "code",
   "execution_count": 257,
   "metadata": {},
   "outputs": [],
   "source": [
    "df_submission.to_csv(\"./content/RSF_submission1.csv\", index=False)"
   ]
  },
  {
   "cell_type": "code",
   "execution_count": null,
   "metadata": {},
   "outputs": [],
   "source": []
  }
 ],
 "metadata": {
  "colab": {
   "provenance": []
  },
  "kernelspec": {
   "display_name": "hack_ai_env",
   "language": "python",
   "name": "hack_ai_env"
  },
  "language_info": {
   "codemirror_mode": {
    "name": "ipython",
    "version": 3
   },
   "file_extension": ".py",
   "mimetype": "text/x-python",
   "name": "python",
   "nbconvert_exporter": "python",
   "pygments_lexer": "ipython3",
   "version": "3.10.6"
  }
 },
 "nbformat": 4,
 "nbformat_minor": 1
}
